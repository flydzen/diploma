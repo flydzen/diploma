{
 "cells": [
  {
   "cell_type": "code",
   "execution_count": 1,
   "metadata": {
    "collapsed": false,
    "jupyter": {
     "outputs_hidden": false
    },
    "pycharm": {
     "is_executing": true
    }
   },
   "outputs": [],
   "source": [
    "import torch\n",
    "import torch.nn as nn\n",
    "import torch.nn.functional as F\n",
    "import numpy as np\n",
    "from torch import optim\n",
    "\n",
    "import matplotlib.pyplot as plt\n",
    "from tqdm import tqdm, trange\n",
    "import os\n",
    "from utils.svg import SVG\n",
    "from pathlib import Path\n",
    "from sklearn.model_selection import train_test_split\n",
    "from sklearn import preprocessing\n",
    "import pandas as pd\n",
    "from torchsummary import summary\n",
    "\n",
    "import utils.dataloader as dl\n",
    "from svglib.svglib import svg2rlg\n",
    "from reportlab.graphics import renderPM\n",
    "import shutil\n",
    "import optuna\n",
    "from optuna.trial import TrialState\n",
    "\n",
    "from IPython import display\n",
    "%matplotlib inline"
   ]
  },
  {
   "cell_type": "code",
   "execution_count": 2,
   "metadata": {},
   "outputs": [
    {
     "name": "stdout",
     "output_type": "stream",
     "text": [
      "Device: cuda\n"
     ]
    }
   ],
   "source": [
    "device = \"cuda\" if torch.cuda.is_available() else \"cpu\"\n",
    "\n",
    "SVG.ENCODE_HEIGHT = 80\n",
    "# fonts_number = 100\n",
    "fonts_number = None\n",
    "\n",
    "print(f'Device: {device}')"
   ]
  },
  {
   "cell_type": "code",
   "execution_count": 3,
   "metadata": {},
   "outputs": [
    {
     "name": "stdout",
     "output_type": "stream",
     "text": [
      "Loading data\n",
      "<###############_________________________________________________________________>: 19.8% [3000 / 15147]"
     ]
    },
    {
     "name": "stderr",
     "output_type": "stream",
     "text": [
      "IOPub message rate exceeded.\n",
      "The Jupyter server will temporarily stop sending output\n",
      "to the client in order to avoid crashing it.\n",
      "To change this limit, set the config variable\n",
      "`--ServerApp.iopub_msg_rate_limit`.\n",
      "\n",
      "Current values:\n",
      "ServerApp.iopub_msg_rate_limit=1000.0 (msgs/sec)\n",
      "ServerApp.rate_limit_window=3.0 (secs)\n",
      "\n"
     ]
    },
    {
     "name": "stdout",
     "output_type": "stream",
     "text": [
      "<####################################____________________________________________>: 45.2% [6852 / 15147]"
     ]
    },
    {
     "name": "stderr",
     "output_type": "stream",
     "text": [
      "IOPub message rate exceeded.\n",
      "The Jupyter server will temporarily stop sending output\n",
      "to the client in order to avoid crashing it.\n",
      "To change this limit, set the config variable\n",
      "`--ServerApp.iopub_msg_rate_limit`.\n",
      "\n",
      "Current values:\n",
      "ServerApp.iopub_msg_rate_limit=1000.0 (msgs/sec)\n",
      "ServerApp.rate_limit_window=3.0 (secs)\n",
      "\n"
     ]
    },
    {
     "name": "stdout",
     "output_type": "stream",
     "text": [
      "<###########################################################_____________________>: 74.4% [11270 / 15147]"
     ]
    },
    {
     "name": "stderr",
     "output_type": "stream",
     "text": [
      "IOPub message rate exceeded.\n",
      "The Jupyter server will temporarily stop sending output\n",
      "to the client in order to avoid crashing it.\n",
      "To change this limit, set the config variable\n",
      "`--ServerApp.iopub_msg_rate_limit`.\n",
      "\n",
      "Current values:\n",
      "ServerApp.iopub_msg_rate_limit=1000.0 (msgs/sec)\n",
      "ServerApp.rate_limit_window=3.0 (secs)\n",
      "\n"
     ]
    },
    {
     "name": "stdout",
     "output_type": "stream",
     "text": [
      "<################################################################################>: 100.% [15147 / 15147]\n"
     ]
    }
   ],
   "source": [
    "print('Loading data')\n",
    "dl.load_data(fonts_number)"
   ]
  },
  {
   "cell_type": "code",
   "execution_count": 4,
   "metadata": {
    "collapsed": false,
    "jupyter": {
     "outputs_hidden": false
    }
   },
   "outputs": [
    {
     "name": "stdout",
     "output_type": "stream",
     "text": [
      "Encoding data\n"
     ]
    },
    {
     "data": {
      "text/html": [
       "<div>\n",
       "<style scoped>\n",
       "    .dataframe tbody tr th:only-of-type {\n",
       "        vertical-align: middle;\n",
       "    }\n",
       "\n",
       "    .dataframe tbody tr th {\n",
       "        vertical-align: top;\n",
       "    }\n",
       "\n",
       "    .dataframe thead th {\n",
       "        text-align: right;\n",
       "    }\n",
       "</style>\n",
       "<table border=\"1\" class=\"dataframe\">\n",
       "  <thead>\n",
       "    <tr style=\"text-align: right;\">\n",
       "      <th></th>\n",
       "      <th>font</th>\n",
       "      <th>letter</th>\n",
       "      <th>data</th>\n",
       "    </tr>\n",
       "  </thead>\n",
       "  <tbody>\n",
       "    <tr>\n",
       "      <th>0</th>\n",
       "      <td>!crass_roots_ofl</td>\n",
       "      <td>a</td>\n",
       "      <td>[[0.0, 1.0, 0.0, 0.0, 0.0, 0.0, 0.0, 0.0, 0.0,...</td>\n",
       "    </tr>\n",
       "    <tr>\n",
       "      <th>1</th>\n",
       "      <td>!crass_roots_ofl</td>\n",
       "      <td>b</td>\n",
       "      <td>[[0.0, 1.0, 0.0, 0.0, 0.0, 0.0, 0.0, 0.0, 0.0,...</td>\n",
       "    </tr>\n",
       "    <tr>\n",
       "      <th>2</th>\n",
       "      <td>!crass_roots_ofl</td>\n",
       "      <td>c</td>\n",
       "      <td>[[0.0, 1.0, 0.0, 0.0, 0.0, 0.0, 0.0, 0.0, 0.0,...</td>\n",
       "    </tr>\n",
       "    <tr>\n",
       "      <th>3</th>\n",
       "      <td>!crass_roots_ofl</td>\n",
       "      <td>d</td>\n",
       "      <td>[[0.0, 1.0, 0.0, 0.0, 0.0, 0.0, 0.0, 0.0, 0.0,...</td>\n",
       "    </tr>\n",
       "    <tr>\n",
       "      <th>4</th>\n",
       "      <td>!crass_roots_ofl</td>\n",
       "      <td>e</td>\n",
       "      <td>[[0.0, 1.0, 0.0, 0.0, 0.0, 0.0, 0.0, 0.0, 0.0,...</td>\n",
       "    </tr>\n",
       "    <tr>\n",
       "      <th>...</th>\n",
       "      <td>...</td>\n",
       "      <td>...</td>\n",
       "      <td>...</td>\n",
       "    </tr>\n",
       "    <tr>\n",
       "      <th>337538</th>\n",
       "      <td>çarsi</td>\n",
       "      <td>v</td>\n",
       "      <td>[[0.0, 1.0, 0.0, 0.0, 0.0, 0.0, 0.0, 0.0, 0.0,...</td>\n",
       "    </tr>\n",
       "    <tr>\n",
       "      <th>337539</th>\n",
       "      <td>çarsi</td>\n",
       "      <td>w</td>\n",
       "      <td>[[0.0, 1.0, 0.0, 0.0, 0.0, 0.0, 0.0, 0.0, 0.0,...</td>\n",
       "    </tr>\n",
       "    <tr>\n",
       "      <th>337540</th>\n",
       "      <td>çarsi</td>\n",
       "      <td>x</td>\n",
       "      <td>[[0.0, 1.0, 0.0, 0.0, 0.0, 0.0, 0.0, 0.0, 0.0,...</td>\n",
       "    </tr>\n",
       "    <tr>\n",
       "      <th>337541</th>\n",
       "      <td>çarsi</td>\n",
       "      <td>y</td>\n",
       "      <td>[[0.0, 1.0, 0.0, 0.0, 0.0, 0.0, 0.0, 0.0, 0.0,...</td>\n",
       "    </tr>\n",
       "    <tr>\n",
       "      <th>337542</th>\n",
       "      <td>çarsi</td>\n",
       "      <td>z</td>\n",
       "      <td>[[0.0, 1.0, 0.0, 0.0, 0.0, 0.0, 0.0, 0.0, 0.0,...</td>\n",
       "    </tr>\n",
       "  </tbody>\n",
       "</table>\n",
       "<p>337543 rows × 3 columns</p>\n",
       "</div>"
      ],
      "text/plain": [
       "                    font letter  \\\n",
       "0       !crass_roots_ofl      a   \n",
       "1       !crass_roots_ofl      b   \n",
       "2       !crass_roots_ofl      c   \n",
       "3       !crass_roots_ofl      d   \n",
       "4       !crass_roots_ofl      e   \n",
       "...                  ...    ...   \n",
       "337538             çarsi      v   \n",
       "337539             çarsi      w   \n",
       "337540             çarsi      x   \n",
       "337541             çarsi      y   \n",
       "337542             çarsi      z   \n",
       "\n",
       "                                                     data  \n",
       "0       [[0.0, 1.0, 0.0, 0.0, 0.0, 0.0, 0.0, 0.0, 0.0,...  \n",
       "1       [[0.0, 1.0, 0.0, 0.0, 0.0, 0.0, 0.0, 0.0, 0.0,...  \n",
       "2       [[0.0, 1.0, 0.0, 0.0, 0.0, 0.0, 0.0, 0.0, 0.0,...  \n",
       "3       [[0.0, 1.0, 0.0, 0.0, 0.0, 0.0, 0.0, 0.0, 0.0,...  \n",
       "4       [[0.0, 1.0, 0.0, 0.0, 0.0, 0.0, 0.0, 0.0, 0.0,...  \n",
       "...                                                   ...  \n",
       "337538  [[0.0, 1.0, 0.0, 0.0, 0.0, 0.0, 0.0, 0.0, 0.0,...  \n",
       "337539  [[0.0, 1.0, 0.0, 0.0, 0.0, 0.0, 0.0, 0.0, 0.0,...  \n",
       "337540  [[0.0, 1.0, 0.0, 0.0, 0.0, 0.0, 0.0, 0.0, 0.0,...  \n",
       "337541  [[0.0, 1.0, 0.0, 0.0, 0.0, 0.0, 0.0, 0.0, 0.0,...  \n",
       "337542  [[0.0, 1.0, 0.0, 0.0, 0.0, 0.0, 0.0, 0.0, 0.0,...  \n",
       "\n",
       "[337543 rows x 3 columns]"
      ]
     },
     "execution_count": 4,
     "metadata": {},
     "output_type": "execute_result"
    }
   ],
   "source": [
    "print('Encoding data')\n",
    "stored_path = Path(f'data/data_{SVG.ENCODE_HEIGHT}_{fonts_number}.json')\n",
    "if stored_path.exists():\n",
    "    data = pd.read_json(str(stored_path))\n",
    "    # data['data'] = data['data'].apply(lambda x: np.array(x))\n",
    "else:\n",
    "    data = dl.get_data(fonts_number)\n",
    "    data.to_json(str(stored_path))\n",
    "data"
   ]
  },
  {
   "cell_type": "code",
   "execution_count": 5,
   "metadata": {
    "collapsed": false,
    "jupyter": {
     "outputs_hidden": false
    }
   },
   "outputs": [],
   "source": [
    "class Dataloader:\n",
    "    def __init__(self, df: pd.DataFrame, test_size=0.1, shuffle=False, batch_size=24):\n",
    "        if shuffle:\n",
    "            df = df.sample(frac=1).reset_index(drop=True)\n",
    "        xs = np.array(df['data'].to_list(), dtype=np.float32)\n",
    "        ys = df['letter'].to_numpy()\n",
    "        self.x_train, self.x_test, self.y_train, self.y_test = train_test_split(xs, ys, test_size=test_size, shuffle=shuffle)\n",
    "        self.batch_size = batch_size\n",
    "\n",
    "    def iterate(self):\n",
    "        bs = self.batch_size\n",
    "        for i in range(len(self.x_train) // bs):\n",
    "            yield self.x_train[i * bs: (i + 1) * bs], self.y_train[i * bs: (i + 1) * bs]\n",
    "\n",
    "    def iterate_test(self):\n",
    "        yield self.x_test, self.y_test\n",
    "\n",
    "    def __len__(self):\n",
    "        return len(self.x_train) // self.batch_size + int(len(self.x_train) % self.batch_size > 0)"
   ]
  },
  {
   "cell_type": "code",
   "execution_count": 6,
   "metadata": {
    "collapsed": false,
    "jupyter": {
     "outputs_hidden": false
    }
   },
   "outputs": [],
   "source": [
    "dataloader = Dataloader(data, test_size=0.15, shuffle=True)"
   ]
  },
  {
   "cell_type": "code",
   "execution_count": 7,
   "metadata": {
    "collapsed": false,
    "jupyter": {
     "outputs_hidden": false
    }
   },
   "outputs": [],
   "source": [
    "def save_sampled(x: np.ndarray, name, close=True):\n",
    "    file = Path('imgs') / name\n",
    "    file.parent.mkdir(parents=True, exist_ok=True)\n",
    "    svg = SVG.decode(x, path=file)\n",
    "    svg.dump_to_file()"
   ]
  },
  {
   "cell_type": "code",
   "execution_count": 8,
   "metadata": {
    "collapsed": false,
    "jupyter": {
     "outputs_hidden": false
    }
   },
   "outputs": [],
   "source": [
    "save_sampled(dataloader.x_test[3], 'test_print.svg', close=False)"
   ]
  },
  {
   "cell_type": "code",
   "execution_count": 26,
   "metadata": {
    "collapsed": false,
    "jupyter": {
     "outputs_hidden": false
    }
   },
   "outputs": [],
   "source": [
    "statistic_var = []\n",
    "\n",
    "class BnAndDropout(nn.Module):\n",
    "    def __init__(self, features, p=0.15):\n",
    "        super().__init__()\n",
    "        self.bn = nn.BatchNorm1d(num_features=features)\n",
    "        self.do = nn.Dropout(p)\n",
    "    \n",
    "    def forward(self, x):\n",
    "        return self.do(self.bn(x))\n",
    "\n",
    "\n",
    "class Block(nn.Module):\n",
    "    def __init__(self, f_in, f_out):\n",
    "        super().__init__()\n",
    "        self.layer = nn.Sequential(\n",
    "            nn.Linear(f_in, f_out),\n",
    "            nn.Tanh(),\n",
    "            # BnAndDropout(f_out),\n",
    "        )\n",
    "\n",
    "    def forward(self, x):\n",
    "        return self.layer(x)\n",
    "\n",
    "\n",
    "class Coder(nn.Module):\n",
    "    def __init__(self, shape, out):\n",
    "        super().__init__()\n",
    "        self.matrix = nn.Layer(shape[1], out)\n",
    "\n",
    "    def forward(self, x):\n",
    "        return self.matrix(x)\n",
    "    \n",
    "\n",
    "class VEncoder(nn.Module):\n",
    "    def __init__(self, in_features, in_labels, shape, params=None, vae=False):\n",
    "        super().__init__()\n",
    "        self.in_features = in_features\n",
    "        self.in_labels = in_labels\n",
    "        self.all_in = in_features + in_labels\n",
    "        self.vae = vae\n",
    "\n",
    "        layers = []\n",
    "        \n",
    "        params.insert(0, self.all_in)\n",
    "        for i in range(len(params) - 2):\n",
    "            layers.append(Block(params[i], params[i + 1]))\n",
    "\n",
    "        self.layers = nn.Sequential(*layers)\n",
    "\n",
    "        self.layer_mu = nn.Linear(params[-2], params[-1])\n",
    "        self.layer_logvar = nn.Linear(params[-2], params[-1])\n",
    "        self.mu_activate = nn.Tanh()\n",
    "        self.v_activate = nn.Softplus()\n",
    "\n",
    "        self.N = torch.distributions.Normal(0, 1)\n",
    "        self.N.loc = self.N.loc.to(device)\n",
    "        self.N.scale = self.N.scale.to(device)\n",
    "\n",
    "        self.kl = 0\n",
    "\n",
    "    def forward(self, x, labels):\n",
    "        x = x.view(-1, self.in_features)\n",
    "        x = torch.cat((x, labels), 1)\n",
    "        \n",
    "        x = self.layers(x)\n",
    "        mu = self.mu_activate(self.layer_mu(x))\n",
    "\n",
    "        if self.vae:\n",
    "            log_var = self.layer_logvar(x)\n",
    "            var = log_var.exp()\n",
    "            z = mu + torch.sqrt(var) * self.N.sample(mu.shape)\n",
    "            self.kl = torch.mean(-0.5 * torch.sum(1 + log_var - mu ** 2 - var, dim=1), dim=0)\n",
    "            \n",
    "            statistic_var.append(np.absolute(var.cpu().detach().numpy()).mean())\n",
    "            return z\n",
    "        else:\n",
    "            return mu\n",
    "        return mu\n",
    "\n",
    "\n",
    "class VDecoder(nn.Module):\n",
    "    def __init__(self, out_features, in_labels, out_shape, params=None):\n",
    "        super().__init__()\n",
    "        self.out_features = out_features\n",
    "        self.in_labels = in_labels\n",
    "        self.out_shape = out_shape\n",
    "\n",
    "        layers = []\n",
    "        params[0] += in_labels\n",
    "        params.append(out_features)\n",
    "        for i in range(len(params) - 1):\n",
    "            layers.append(Block(params[i], params[i + 1]))\n",
    "        self.layers = nn.Sequential(*layers)\n",
    "\n",
    "    def forward(self, x, labels):\n",
    "        x = torch.cat((x, labels), 1)\n",
    "        d = self.layers(x)\n",
    "        out = d.view(-1, *self.out_shape)\n",
    "        \n",
    "        return out\n",
    "\n",
    "    \n",
    "class Vae(nn.Module):\n",
    "    def __init__(self, shape, label_size, params, vae=False):\n",
    "        super().__init__()\n",
    "\n",
    "        self._vae = vae\n",
    "\n",
    "        self.shape = shape\n",
    "        self.in_features = shape[0] * shape[1]\n",
    "        self.encoder = VEncoder(self.in_features, label_size, self.shape, params, vae=vae)\n",
    "        self.decoder = VDecoder(self.in_features, label_size, self.shape, params[::-1])\n",
    "        \n",
    "    def forward(self, x, labels):\n",
    "        z = self.encoder(x, labels)\n",
    "        return self.decoder(z, labels)\n",
    "\n",
    "    def loss(self):\n",
    "        def _inner(y_hat, y):\n",
    "            sum_loss = ((y - y_hat)**2).mean(axis=0).sum()\n",
    "            if self.vae:\n",
    "                sum_loss += self.encoder.kl\n",
    "            return sum_loss\n",
    "            \n",
    "        return _inner\n",
    "    \n",
    "    @property\n",
    "    def vae(self):\n",
    "        return self._vae\n",
    "\n",
    "    @vae.setter\n",
    "    def vae(self, vae):\n",
    "        self._vae = vae\n",
    "        self.encoder.vae = vae\n",
    "  \n"
   ]
  },
  {
   "cell_type": "code",
   "execution_count": 27,
   "metadata": {},
   "outputs": [],
   "source": [
    "ONE_HOT_LEN = len(dl.GLYPH_FILTER)\n",
    "one_hot_rules = {\n",
    "    glyph: one_hot\n",
    "    for glyph, one_hot in zip(\n",
    "        dl.GLYPH_FILTER, \n",
    "        range(0, ONE_HOT_LEN),\n",
    "    )\n",
    "}\n",
    "\n",
    "def labels2num(labels):\n",
    "    return torch.Tensor([one_hot_rules[i] for i in labels]).long()\n",
    "\n",
    "def labels2one_hot(labels):\n",
    "    return F.one_hot(labels2num(labels), num_classes=ONE_HOT_LEN)"
   ]
  },
  {
   "cell_type": "code",
   "execution_count": 28,
   "metadata": {
    "collapsed": false,
    "jupyter": {
     "outputs_hidden": false
    }
   },
   "outputs": [],
   "source": [
    "interval = 200\n",
    "\n",
    "train_ts, train_loss = [], []\n",
    "test_ts, test_loss = [], []\n",
    "\n",
    "\n",
    "def show_progress(t, epochs, save_to=None, params=None, lr=None):\n",
    "    display.clear_output(wait=True)\n",
    "    fig, (ax1, ax2) = plt.subplots(2, 1, constrained_layout=True, figsize=(12, 10))\n",
    "    fig.suptitle(f'Epoch {t:3.3f} / {epochs}', fontsize=16)\n",
    "    \n",
    "    last_size = 0.5\n",
    "    \n",
    "    for ax, msg in zip((ax1, ax2), ('', f'last {int(last_size*100)}%')):\n",
    "        title = f'loss {msg}' + (f' | params = {params}' if params else '') + (f' | lr = {lr}' if lr else '')\n",
    "        ax.set_title(title)\n",
    "        ax.set_xlabel('time (epochs)')\n",
    "        ax.set_ylabel('loss')\n",
    "    last_train = str(train_loss[-1]) if len(train_loss) > 0 else ''\n",
    "    last_test = str(test_loss[-1]) if len(test_loss) > 0 else ''\n",
    "    \n",
    "    ax1.plot(train_ts, train_loss, c='darkblue', lw=3, label=f'train: {last_train}')\n",
    "    ax1.plot(test_ts, test_loss, c='green', marker='o', lw=5, label=f'test: {last_test}')\n",
    "    \n",
    "    ax2.plot(train_ts[-int(len(train_ts)*last_size):], train_loss[-int(len(train_loss)*last_size):], c='darkblue', lw=3, label=f'train: {last_train}')\n",
    "    ax2.plot(test_ts[-int(len(test_ts)*last_size):], test_loss[-int(len(test_loss)*last_size):], c='green', marker='o', lw=5, label=f'test: {last_test}')\n",
    "    \n",
    "    ax1.legend()\n",
    "    ax2.legend()\n",
    "    if save_to is None:\n",
    "        plt.show() \n",
    "    else:\n",
    "        plt.savefig(save_to)\n",
    "        plt.close()\n",
    "    \n",
    "def train(epoch, epochs, dataloader, model, loss_fn, optimizer, scheduler, pbar=None, show=True):\n",
    "    model.train()\n",
    "    num_batches = len(dataloader)\n",
    "    for batch, (images, labels) in enumerate(dataloader.iterate()):\n",
    "        images = torch.Tensor(images).to(device)\n",
    "        labels = labels2one_hot(labels).to(device)\n",
    "\n",
    "        decoded = model(images, labels)\n",
    "        loss = loss_fn(decoded, images)\n",
    "\n",
    "        optimizer.zero_grad()\n",
    "        loss.backward()\n",
    "        optimizer.step()\n",
    "\n",
    "        if batch % interval == 0:\n",
    "            t = epoch + (batch + 1) / num_batches\n",
    "            train_ts.append(t)\n",
    "            train_loss.append(loss.item())\n",
    "            if show:                \n",
    "                show_progress(t, epochs, lr=scheduler.get_last_lr()[0])\n",
    "            if pbar is not None:\n",
    "                pbar.refresh()\n",
    "    scheduler.step()        \n",
    "    \n",
    "def test(epoch, epochs, dataloader, model, loss_fn, show=True):\n",
    "    model.eval()\n",
    "    num_batches = len(dataloader)\n",
    "    tmp_test_loss = []\n",
    "    with torch.no_grad():\n",
    "        for images, labels in dataloader.iterate_test():\n",
    "            images = torch.Tensor(images).to(device)\n",
    "            labels = labels2one_hot(labels).to(device)\n",
    "\n",
    "            decoded = model(images, labels)\n",
    "            loss = loss_fn(decoded, images)\n",
    "\n",
    "            tmp_test_loss.append(loss.item())\n",
    "            \n",
    "    test_ts.append(epoch)\n",
    "    test_loss.append(np.mean(tmp_test_loss))\n",
    "    if show:\n",
    "        show_progress(epoch, epochs)\n"
   ]
  },
  {
   "cell_type": "code",
   "execution_count": 29,
   "metadata": {},
   "outputs": [],
   "source": [
    "epoch = 0\n",
    "\n",
    "def run(model, dataloader, optimizer, scheduler, epochs, params, batch_size, _epoch=0, run_name=None, trial=None):\n",
    "    global epoch\n",
    "    \n",
    "    if run_name is None:\n",
    "        run_name = f'run_relative_size{SVG.ENCODE_HEIGHT}_{\"c\" if model.vae else \"\"}vae_{\",\".join(map(str, params))}'\n",
    "\n",
    "    save_folder = Path('models') / run_name\n",
    "    loss_img_path = str(save_folder / '_loss.png')\n",
    "    save_folder.mkdir(parents=True, exist_ok=True)\n",
    "    plt.clf()\n",
    "    file_format = 'svg'\n",
    "    max_epoch = epoch + epochs\n",
    "    loss_fn = model.loss()\n",
    "    dataloader.batch_size = batch_size\n",
    "\n",
    "    if trial is None:\n",
    "        pbar = trange(epoch, max_epoch)\n",
    "        rng = pbar\n",
    "    else:\n",
    "        rng = range(epoch, max_epoch)\n",
    "        pbar = None\n",
    "    for _epoch in rng:\n",
    "        train(_epoch, max_epoch, dataloader, model, loss_fn, optimizer, scheduler, pbar, show=trial is None)\n",
    "        test(_epoch + 1, max_epoch, dataloader, model, loss_fn, show=trial is None)\n",
    "        \n",
    "        torch.save(model.state_dict(), save_folder / 'ckpt.pt')\n",
    "\n",
    "        model.eval()\n",
    "        \n",
    "        if trial is not None:\n",
    "            if trial.should_prune():\n",
    "                raise optuna.exceptions.TrialPruned()\n",
    "        else:\n",
    "            with torch.no_grad():\n",
    "                num = np.random.randint(0, len(dataloader.x_test))\n",
    "\n",
    "                image = torch.tensor(dataloader.x_test[num].reshape((1, SVG.ENCODE_HEIGHT, SVG.ENCODE_WIDTH))).to(device)\n",
    "                label = labels2one_hot([dataloader.y_test[num]]).to(device)\n",
    "                sample = model(image, label)[0]\n",
    "                save_sampled(dataloader.x_test[num], f'{run_name}/test/{_epoch}_{dataloader.y_test[num]}_orig.{file_format}')\n",
    "                save_sampled(sample.cpu().detach().numpy(), f'{run_name}/test/{_epoch}_{dataloader.y_test[num]}_gen.{file_format}')\n",
    "\n",
    "                image = torch.tensor(dataloader.x_train[num].reshape((1, SVG.ENCODE_HEIGHT, SVG.ENCODE_WIDTH))).to(device)\n",
    "                label = labels2one_hot([dataloader.y_train[num]]).to(device)\n",
    "                sample = model(image, label)[0]\n",
    "                save_sampled(dataloader.x_train[num], f'{run_name}/train/{_epoch}_{dataloader.y_test[num]}_orig.{file_format}')\n",
    "                save_sampled(sample.cpu().detach().numpy(), f'{run_name}/train/{_epoch}_{dataloader.y_test[num]}_gen.{file_format}')\n",
    "            epoch = _epoch + 1\n",
    "            show_progress(_epoch + 1, max_epoch, params=params, lr=scheduler.get_last_lr()[0])\n",
    "        show_progress(_epoch + 1, max_epoch, loss_img_path, params=params, lr=scheduler.get_last_lr()[0])"
   ]
  },
  {
   "cell_type": "code",
   "execution_count": 30,
   "metadata": {},
   "outputs": [],
   "source": [
    "def setup(params, lr, weight_decay=2e-5):\n",
    "    global interval, train_ts, train_loss, test_ts, test_loss, epoch\n",
    "\n",
    "    interval = len(dataloader) / 4\n",
    "\n",
    "    model = Vae((SVG.ENCODE_HEIGHT, SVG.ENCODE_WIDTH), ONE_HOT_LEN, params, vae=False).to(device)\n",
    "    loss_fn = model.loss()\n",
    "    optimizer = optim.Adam(model.parameters(), lr=lr, weight_decay=weight_decay)\n",
    "    scheduler = torch.optim.lr_scheduler.StepLR(optimizer, step_size=3, gamma=0.95)\n",
    "\n",
    "    train_ts, train_loss = [], []\n",
    "    test_ts, test_loss = [], []\n",
    "    epoch = 0\n",
    "\n",
    "    return model, optimizer, scheduler, loss_fn"
   ]
  },
  {
   "cell_type": "code",
   "execution_count": null,
   "metadata": {
    "tags": []
   },
   "outputs": [
    {
     "name": "stdout",
     "output_type": "stream",
     "text": [
      "\u001b[32m[I 2023-02-13 12:44:41,337]\u001b[0m Trial 43 finished with value: 1.833317872988701 and parameters: {'z': 596, 'p0': 3135, 'lr': 0.00012868980523508673, 'p1': 2725, 'p2': 1822, 'p3': 1163, 'p4': 704, 'p5': 642}. Best is trial 41 with value: 1.2887586380275025.\u001b[0m\n"
     ]
    }
   ],
   "source": [
    "def run_for_search(trial):\n",
    "    latent_size = trial.suggest_int('z', 128, 900)\n",
    "    params = [trial.suggest_int('p0', 2000, 3500)]\n",
    "    lr = trial.suggest_float('lr', 8e-5, 1e-3, log=True)\n",
    "    for i in range(1, 6):\n",
    "        params.append(trial.suggest_int(f'p{i}', latent_size, params[-1]))\n",
    "    params.append(latent_size)\n",
    "    \n",
    "    model, optimizer, scheduler, loss_fn = setup(\n",
    "        params=params,\n",
    "        lr=lr,\n",
    "        weight_decay=6e-6,\n",
    "    )\n",
    "    run(\n",
    "        model=model, \n",
    "        dataloader=dataloader, \n",
    "        optimizer=optimizer,\n",
    "        scheduler=scheduler,\n",
    "        epochs=20,\n",
    "        params=params,\n",
    "        batch_size=128,\n",
    "        run_name='temp',\n",
    "        trial=trial,\n",
    "    )\n",
    "    return test_loss[-1] + max(test_loss[-1] - train_loss[-1], 0) ** 2 \n",
    "    \n",
    "\n",
    "study = optuna.create_study(\n",
    "    direction=\"minimize\",\n",
    "    storage=\"sqlite:///db.sqlite3\",\n",
    "    study_name=\"ae_01_search_lr_7_layers_20_epoch\"\n",
    ")\n",
    "\n",
    "study.optimize(run_for_search, n_trials=50, show_progress_bar=True)"
   ]
  },
  {
   "cell_type": "code",
   "execution_count": 63,
   "metadata": {},
   "outputs": [
    {
     "name": "stdout",
     "output_type": "stream",
     "text": [
      "Study statistics: \n",
      "  Number of finished trials:  50\n",
      "  Number of pruned trials:  0\n",
      "  Number of complete trials:  50\n",
      "Best trial:\n",
      "  Value:  0.2545190453529358\n",
      "  Params: \n",
      "    lr: 0.00013222215192242173\n",
      "    p0: 2795\n",
      "    p1: 2792\n",
      "    p2: 2740\n",
      "    p3: 1817\n",
      "    z: 526\n"
     ]
    }
   ],
   "source": [
    "pruned_trials = study.get_trials(deepcopy=False, states=[TrialState.PRUNED])\n",
    "complete_trials = study.get_trials(deepcopy=False, states=[TrialState.COMPLETE])\n",
    "\n",
    "print(\"Study statistics: \")\n",
    "print(\"  Number of finished trials: \", len(study.trials))\n",
    "print(\"  Number of pruned trials: \", len(pruned_trials))\n",
    "print(\"  Number of complete trials: \", len(complete_trials))\n",
    "\n",
    "print(\"Best trial:\")\n",
    "trial = study.best_trial\n",
    "\n",
    "print(\"  Value: \", trial.value)\n",
    "\n",
    "print(\"  Params: \")\n",
    "for key, value in trial.params.items():\n",
    "    print(\"    {}: {}\".format(key, value))"
   ]
  },
  {
   "cell_type": "code",
   "execution_count": 45,
   "metadata": {},
   "outputs": [],
   "source": [
    "params = [2350, 2300, 1640, 1128, 494]\n",
    "\n",
    "model, optimizer, scheduler, loss_fn = setup(\n",
    "    params=params,\n",
    "    lr=2e-4,\n",
    "    weight_decay=2e-5,\n",
    ")"
   ]
  },
  {
   "cell_type": "code",
   "execution_count": 31,
   "metadata": {},
   "outputs": [],
   "source": [
    "params = [2780, 1820, 1260, 1104, 865, 350]\n",
    "\n",
    "model, optimizer, scheduler, loss_fn = setup(\n",
    "    params=params,\n",
    "    lr=2e-4,\n",
    "    weight_decay=6e-6,\n",
    ")\n",
    "model.vae = True"
   ]
  },
  {
   "cell_type": "code",
   "execution_count": 40,
   "metadata": {
    "tags": []
   },
   "outputs": [
    {
     "name": "stderr",
     "output_type": "stream",
     "text": [
      "100%|████████████████████████████████████████████████████████████████████████████████████| 3/3 [01:33<00:00, 31.33s/it]\n"
     ]
    }
   ],
   "source": [
    "statistic_var = []\n",
    "run(\n",
    "    model=model, \n",
    "    dataloader=dataloader, \n",
    "    optimizer=optimizer, \n",
    "    scheduler=scheduler, \n",
    "    epochs=3,\n",
    "    params=params,\n",
    "    batch_size=128,\n",
    "    # run_name=f'run_relative_01_tanh_size{SVG.ENCODE_HEIGHT}_{\"c\" if model.vae else \"\"}vae_{\",\".join(map(str, params))}',\n",
    "    run_name=f'run_relative_01_tanh_size{SVG.ENCODE_HEIGHT}_{\"c\" if model.vae else \"\"}vae_{\",\".join(map(str, params))}',\n",
    ")"
   ]
  },
  {
   "cell_type": "code",
   "execution_count": 33,
   "metadata": {},
   "outputs": [
    {
     "data": {
      "text/plain": [
       "[<matplotlib.lines.Line2D at 0x20dd2547850>]"
      ]
     },
     "execution_count": 33,
     "metadata": {},
     "output_type": "execute_result"
    },
    {
     "data": {
      "image/png": "[encoded data removed]",
      "text/plain": [
       "<Figure size 640x480 with 1 Axes>"
      ]
     },
     "metadata": {},
     "output_type": "display_data"
    }
   ],
   "source": [
    "plt.plot(statistic_var)"
   ]
  },
  {
   "cell_type": "code",
   "execution_count": null,
   "metadata": {},
   "outputs": [],
   "source": []
  }
 ],
 "metadata": {
  "kernelspec": {
   "display_name": "Python 3 (ipykernel)",
   "language": "python",
   "name": "python3"
  },
  "language_info": {
   "codemirror_mode": {
    "name": "ipython",
    "version": 3
   },
   "file_extension": ".py",
   "mimetype": "text/x-python",
   "name": "python",
   "nbconvert_exporter": "python",
   "pygments_lexer": "ipython3",
   "version": "3.10.9"
  }
 },
 "nbformat": 4,
 "nbformat_minor": 4
}
