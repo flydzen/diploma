{
 "cells": [
  {
   "cell_type": "code",
   "execution_count": 1,
   "metadata": {
    "collapsed": false,
    "jupyter": {
     "outputs_hidden": false
    },
    "pycharm": {
     "is_executing": true,
     "name": "#%%\n"
    }
   },
   "outputs": [],
   "source": [
    "import torch\n",
    "import torch.nn as nn\n",
    "import torch.nn.functional as F\n",
    "import numpy as np\n",
    "from torch import optim\n",
    "import random as rnd\n",
    "\n",
    "import matplotlib.pyplot as plt\n",
    "import matplotlib.image as mpimg\n",
    "from tqdm import tqdm, trange\n",
    "import os\n",
    "from utils.svg import SVG\n",
    "from pathlib import Path\n",
    "from sklearn.model_selection import train_test_split\n",
    "from sklearn import preprocessing\n",
    "import pandas as pd\n",
    "from torchsummary import summary\n",
    "import math\n",
    "import utils.dataloader as dl\n",
    "import shutil\n",
    "import optuna\n",
    "from optuna.trial import TrialState\n",
    "from cairosvg import svg2png\n",
    "\n",
    "from IPython import display\n",
    "%matplotlib inline"
   ]
  },
  {
   "cell_type": "code",
   "execution_count": 5,
   "metadata": {
    "pycharm": {
     "name": "#%%\n"
    }
   },
   "outputs": [
    {
     "name": "stdout",
     "output_type": "stream",
     "text": [
      "Device: cpu\n"
     ]
    }
   ],
   "source": [
    "device = \"cuda\" if torch.cuda.is_available() else \"cpu\"\n",
    "\n",
    "SVG.ENCODE_HEIGHT = 80\n",
    "# fonts_number = 100\n",
    "fonts_number = 8000\n",
    "# fonts_number = None\n",
    "\n",
    "print(f'Device: {device}')"
   ]
  },
  {
   "cell_type": "markdown",
   "metadata": {
    "pycharm": {
     "name": "#%% md\n"
    }
   },
   "source": [
    "## Загрузка данных"
   ]
  },
  {
   "cell_type": "code",
   "execution_count": 6,
   "metadata": {
    "pycharm": {
     "name": "#%%\n"
    },
    "tags": []
   },
   "outputs": [
    {
     "name": "stdout",
     "output_type": "stream",
     "text": [
      "Loading data\n",
      "<################################################################################>: 100.% [8000 / 8000]\n"
     ]
    }
   ],
   "source": [
    "print('Loading data')\n",
    "dl.load_data(fonts_number)"
   ]
  },
  {
   "cell_type": "code",
   "execution_count": 7,
   "metadata": {
    "collapsed": false,
    "jupyter": {
     "outputs_hidden": false
    },
    "pycharm": {
     "name": "#%%\n"
    }
   },
   "outputs": [
    {
     "name": "stdout",
     "output_type": "stream",
     "text": [
      "Encoding data\n",
      "<################################################################################>: 100.% [8000 / 8000]"
     ]
    },
    {
     "data": {
      "text/html": [
       "<div>\n",
       "<style scoped>\n",
       "    .dataframe tbody tr th:only-of-type {\n",
       "        vertical-align: middle;\n",
       "    }\n",
       "\n",
       "    .dataframe tbody tr th {\n",
       "        vertical-align: top;\n",
       "    }\n",
       "\n",
       "    .dataframe thead th {\n",
       "        text-align: right;\n",
       "    }\n",
       "</style>\n",
       "<table border=\"1\" class=\"dataframe\">\n",
       "  <thead>\n",
       "    <tr style=\"text-align: right;\">\n",
       "      <th></th>\n",
       "      <th>font</th>\n",
       "      <th>letter</th>\n",
       "      <th>data</th>\n",
       "    </tr>\n",
       "  </thead>\n",
       "  <tbody>\n",
       "    <tr>\n",
       "      <th>0</th>\n",
       "      <td>!crass_roots_ofl</td>\n",
       "      <td>a</td>\n",
       "      <td>[[0.0, 1.0, 0.0, 0.0, 0.0, 0.0, 0.0, 0.0, 0.0,...</td>\n",
       "    </tr>\n",
       "    <tr>\n",
       "      <th>1</th>\n",
       "      <td>!crass_roots_ofl</td>\n",
       "      <td>b</td>\n",
       "      <td>[[0.0, 1.0, 0.0, 0.0, 0.0, 0.0, 0.0, 0.0, 0.0,...</td>\n",
       "    </tr>\n",
       "    <tr>\n",
       "      <th>2</th>\n",
       "      <td>!crass_roots_ofl</td>\n",
       "      <td>c</td>\n",
       "      <td>[[0.0, 1.0, 0.0, 0.0, 0.0, 0.0, 0.0, 0.0, 0.0,...</td>\n",
       "    </tr>\n",
       "    <tr>\n",
       "      <th>3</th>\n",
       "      <td>!crass_roots_ofl</td>\n",
       "      <td>d</td>\n",
       "      <td>[[0.0, 1.0, 0.0, 0.0, 0.0, 0.0, 0.0, 0.0, 0.0,...</td>\n",
       "    </tr>\n",
       "    <tr>\n",
       "      <th>4</th>\n",
       "      <td>!crass_roots_ofl</td>\n",
       "      <td>e</td>\n",
       "      <td>[[0.0, 1.0, 0.0, 0.0, 0.0, 0.0, 0.0, 0.0, 0.0,...</td>\n",
       "    </tr>\n",
       "    <tr>\n",
       "      <th>...</th>\n",
       "      <td>...</td>\n",
       "      <td>...</td>\n",
       "      <td>...</td>\n",
       "    </tr>\n",
       "    <tr>\n",
       "      <th>182056</th>\n",
       "      <td>letraslocas2</td>\n",
       "      <td>seven</td>\n",
       "      <td>[[0.0, 1.0, 0.0, 0.0, 0.0, 0.0, 0.0, 0.0, 0.0,...</td>\n",
       "    </tr>\n",
       "    <tr>\n",
       "      <th>182057</th>\n",
       "      <td>letraslocas2</td>\n",
       "      <td>t</td>\n",
       "      <td>[[0.0, 1.0, 0.0, 0.0, 0.0, 0.0, 0.0, 0.0, 0.0,...</td>\n",
       "    </tr>\n",
       "    <tr>\n",
       "      <th>182058</th>\n",
       "      <td>letraslocas2</td>\n",
       "      <td>v</td>\n",
       "      <td>[[0.0, 1.0, 0.0, 0.0, 0.0, 0.0, 0.0, 0.0, 0.0,...</td>\n",
       "    </tr>\n",
       "    <tr>\n",
       "      <th>182059</th>\n",
       "      <td>letraslocas2</td>\n",
       "      <td>x</td>\n",
       "      <td>[[0.0, 1.0, 0.0, 0.0, 0.0, 0.0, 0.0, 0.0, 0.0,...</td>\n",
       "    </tr>\n",
       "    <tr>\n",
       "      <th>182060</th>\n",
       "      <td>letraslocas2</td>\n",
       "      <td>z</td>\n",
       "      <td>[[0.0, 1.0, 0.0, 0.0, 0.0, 0.0, 0.0, 0.0, 0.0,...</td>\n",
       "    </tr>\n",
       "  </tbody>\n",
       "</table>\n",
       "<p>182061 rows × 3 columns</p>\n",
       "</div>"
      ],
      "text/plain": [
       "                    font letter  \\\n",
       "0       !crass_roots_ofl      a   \n",
       "1       !crass_roots_ofl      b   \n",
       "2       !crass_roots_ofl      c   \n",
       "3       !crass_roots_ofl      d   \n",
       "4       !crass_roots_ofl      e   \n",
       "...                  ...    ...   \n",
       "182056      letraslocas2  seven   \n",
       "182057      letraslocas2      t   \n",
       "182058      letraslocas2      v   \n",
       "182059      letraslocas2      x   \n",
       "182060      letraslocas2      z   \n",
       "\n",
       "                                                     data  \n",
       "0       [[0.0, 1.0, 0.0, 0.0, 0.0, 0.0, 0.0, 0.0, 0.0,...  \n",
       "1       [[0.0, 1.0, 0.0, 0.0, 0.0, 0.0, 0.0, 0.0, 0.0,...  \n",
       "2       [[0.0, 1.0, 0.0, 0.0, 0.0, 0.0, 0.0, 0.0, 0.0,...  \n",
       "3       [[0.0, 1.0, 0.0, 0.0, 0.0, 0.0, 0.0, 0.0, 0.0,...  \n",
       "4       [[0.0, 1.0, 0.0, 0.0, 0.0, 0.0, 0.0, 0.0, 0.0,...  \n",
       "...                                                   ...  \n",
       "182056  [[0.0, 1.0, 0.0, 0.0, 0.0, 0.0, 0.0, 0.0, 0.0,...  \n",
       "182057  [[0.0, 1.0, 0.0, 0.0, 0.0, 0.0, 0.0, 0.0, 0.0,...  \n",
       "182058  [[0.0, 1.0, 0.0, 0.0, 0.0, 0.0, 0.0, 0.0, 0.0,...  \n",
       "182059  [[0.0, 1.0, 0.0, 0.0, 0.0, 0.0, 0.0, 0.0, 0.0,...  \n",
       "182060  [[0.0, 1.0, 0.0, 0.0, 0.0, 0.0, 0.0, 0.0, 0.0,...  \n",
       "\n",
       "[182061 rows x 3 columns]"
      ]
     },
     "execution_count": 7,
     "metadata": {},
     "output_type": "execute_result"
    }
   ],
   "source": [
    "print('Encoding data')\n",
    "stored_path = Path(f'data/data_abs_{SVG.ENCODE_HEIGHT}_{fonts_number}.json')\n",
    "if stored_path.exists():\n",
    "    data = pd.read_json(str(stored_path))\n",
    "    # data['data'] = data['data'].apply(lambda x: np.array(x))\n",
    "else:\n",
    "    data = dl.get_data(fonts_number)\n",
    "    data.to_json(str(stored_path))\n",
    "data"
   ]
  },
  {
   "cell_type": "markdown",
   "metadata": {
    "pycharm": {
     "name": "#%% md\n"
    }
   },
   "source": [
    "## Определение даталоадеров\n",
    "`Dataloader` для букв\n",
    "\n",
    "`DataloaderRows` для линий"
   ]
  },
  {
   "cell_type": "code",
   "execution_count": 8,
   "metadata": {
    "collapsed": false,
    "jupyter": {
     "outputs_hidden": false
    },
    "pycharm": {
     "name": "#%%\n"
    }
   },
   "outputs": [],
   "source": [
    "class Dataloader:\n",
    "    def __init__(self, df: pd.DataFrame, test_size=0.1, shuffle=False, batch_size=24):\n",
    "        if shuffle:\n",
    "            df = df.sample(frac=1).reset_index(drop=True)\n",
    "        xs = np.array(df['data'].to_list(), dtype=np.float32)\n",
    "        ys = df['letter'].to_numpy()\n",
    "        self.x_train, self.x_test, self.y_train, self.y_test = train_test_split(xs, ys, test_size=test_size, shuffle=shuffle)\n",
    "        self.batch_size = batch_size\n",
    "\n",
    "    def iterate(self):\n",
    "        bs = self.batch_size\n",
    "        for i in range(len(self.x_train) // bs):\n",
    "            yield self.x_train[i * bs: (i + 1) * bs], self.y_train[i * bs: (i + 1) * bs]\n",
    "\n",
    "    def iterate_test(self):\n",
    "        yield self.x_test, self.y_test\n",
    "\n",
    "    def __len__(self):\n",
    "        return len(self.x_train) // self.batch_size + int(len(self.x_train) % self.batch_size > 0)\n",
    "    \n",
    "class DataloaderRows:\n",
    "    def __init__(self, df: pd.DataFrame, test_size=0.1, shuffle=False, batch_size=24):\n",
    "        if shuffle:\n",
    "            df = df.sample(frac=1).reset_index(drop=True)\n",
    "        xs = np.array(df['data'].to_list(), dtype=np.float32)\n",
    "        xs = xs.reshape((-1, SVG.ENCODE_WIDTH))\n",
    "        self.x_train, self.x_test = train_test_split(xs, test_size=test_size, shuffle=shuffle)\n",
    "        self.batch_size = batch_size\n",
    "\n",
    "    def iterate(self):\n",
    "        bs = self.batch_size\n",
    "        for i in range(len(self.x_train) // bs):\n",
    "            yield self.x_train[i * bs: (i + 1) * bs]\n",
    "\n",
    "    def iterate_test(self):\n",
    "        yield self.x_test\n",
    "\n",
    "    def __len__(self):\n",
    "        return len(self.x_train) // self.batch_size + int(len(self.x_train) % self.batch_size > 0)\n",
    "    "
   ]
  },
  {
   "cell_type": "code",
   "execution_count": 9,
   "metadata": {
    "collapsed": false,
    "jupyter": {
     "outputs_hidden": false
    },
    "pycharm": {
     "name": "#%%\n"
    }
   },
   "outputs": [],
   "source": [
    "dataloader = Dataloader(data, test_size=0.15, shuffle=True)\n",
    "dataloader_rows = DataloaderRows(data, test_size=0.15, shuffle=True)"
   ]
  },
  {
   "cell_type": "code",
   "execution_count": 10,
   "metadata": {
    "collapsed": false,
    "jupyter": {
     "outputs_hidden": false
    },
    "pycharm": {
     "name": "#%%\n"
    }
   },
   "outputs": [],
   "source": [
    "def save_sampled(x: np.ndarray, name):\n",
    "    file = Path('imgs') / name\n",
    "    file.parent.mkdir(parents=True, exist_ok=True)\n",
    "    svg = SVG.decode(x, path=file)\n",
    "    svg.dump_to_file()\n",
    "    \n",
    "def show_sampled(x: np.ndarray):\n",
    "    svg = SVG.decode(x)\n",
    "    svg.mulsize(256)\n",
    "    svg2png(bytestring=svg.dump(), write_to='imgs/tmp.png')\n",
    "    img = mpimg.imread('imgs/tmp.png')\n",
    "    plt.imshow(img)"
   ]
  },
  {
   "cell_type": "code",
   "execution_count": 11,
   "metadata": {
    "collapsed": false,
    "jupyter": {
     "outputs_hidden": false
    },
    "pycharm": {
     "name": "#%%\n"
    }
   },
   "outputs": [
    {
     "data": {
      "image/png": "[encoded data removed]",
      "text/plain": [
       "<Figure size 432x288 with 1 Axes>"
      ]
     },
     "metadata": {
      "needs_background": "light"
     },
     "output_type": "display_data"
    }
   ],
   "source": [
    "save_sampled(dataloader.x_test[0], 'test_print.svg')\n",
    "show_sampled(dataloader.x_test[0])"
   ]
  },
  {
   "cell_type": "markdown",
   "metadata": {},
   "source": [
    "## Определение рисователя прогресса"
   ]
  },
  {
   "cell_type": "code",
   "execution_count": 12,
   "metadata": {},
   "outputs": [],
   "source": [
    "train_ts, train_loss = [], []\n",
    "test_ts, test_loss = [], []\n",
    "interval = len(dataloader) / 6\n",
    "\n",
    "def show_progress(t, epochs, save_to=None, info: dict | None = None):\n",
    "    display.clear_output(wait=True)\n",
    "    fig, (ax1, ax2) = plt.subplots(2, 1, constrained_layout=True, figsize=(12, 10))\n",
    "    fig.suptitle(f'Epoch {t:3.3f} / {epochs}', fontsize=16)\n",
    "    \n",
    "    last_size = 0.5\n",
    "    \n",
    "    for ax, msg in zip((ax1, ax2), ('', f'last {int(last_size*100)}%')):\n",
    "        title = f'loss {msg}'\n",
    "        if info is not None:\n",
    "            title += ' | ' + ' | '.join(f'{key}: {value}' for key, value in info.items())\n",
    "        ax.set_title(title)\n",
    "        ax.set_xlabel('time (epochs)')\n",
    "        ax.set_ylabel('loss')\n",
    "    last_train = str(train_loss[-1]) if len(train_loss) > 0 else ''\n",
    "    last_test = str(test_loss[-1]) if len(test_loss) > 0 else ''\n",
    "    \n",
    "    ax1.plot(train_ts, train_loss, c='darkblue', lw=3, label=f'train: {last_train}')\n",
    "    ax1.plot(test_ts, test_loss, c='green', marker='o', lw=5, label=f'test: {last_test}')\n",
    "    \n",
    "    ax2.plot(train_ts[-int(len(train_ts)*last_size):], train_loss[-int(len(train_loss)*last_size):], c='darkblue', lw=3, label=f'train: {last_train}')\n",
    "    ax2.plot(test_ts[-int(len(test_ts)*last_size):], test_loss[-int(len(test_loss)*last_size):], c='green', marker='o', lw=5, label=f'test: {last_test}')\n",
    "    \n",
    "    ax1.legend()\n",
    "    ax2.legend()\n",
    "    if save_to is None:\n",
    "        plt.show() \n",
    "    else:\n",
    "        plt.savefig(save_to)\n",
    "        plt.close()\n"
   ]
  },
  {
   "cell_type": "markdown",
   "metadata": {
    "pycharm": {
     "name": "#%% md\n"
    }
   },
   "source": [
    "## Определение энкодеров\n",
    "`AE` - автоэнкодер\n",
    "\n",
    "`CAE` - автоэнкодер с условием"
   ]
  },
  {
   "cell_type": "code",
   "execution_count": 13,
   "metadata": {
    "pycharm": {
     "name": "#%%\n"
    }
   },
   "outputs": [],
   "source": [
    "class BnAndDropout(nn.Module):\n",
    "    def __init__(self, features, p=0.15):\n",
    "        super().__init__()\n",
    "        self.bn = nn.BatchNorm1d(num_features=features)\n",
    "        self.do = nn.Dropout(p)\n",
    "    \n",
    "    def forward(self, x):\n",
    "        return self.do(self.bn(x))\n",
    "\n",
    "\n",
    "class Block(nn.Module):\n",
    "    def __init__(self, f_in, f_out):\n",
    "        super().__init__()\n",
    "        self.layer = nn.Sequential(\n",
    "            nn.Linear(f_in, f_out),\n",
    "            nn.Tanh(),\n",
    "            # BnAndDropout(f_out),\n",
    "        )\n",
    "\n",
    "    def forward(self, x):\n",
    "        return self.layer(x)\n",
    "\n",
    "\n",
    "class TimeBlock(nn.Module):\n",
    "    def __init__(self, f_in, f_out, time_emb_dim):\n",
    "        super().__init__()\n",
    "        self.time_mlp = nn.Sequential(\n",
    "            nn.Linear(time_emb_dim, time_emb_dim),\n",
    "            nn.ReLU(),\n",
    "        )\n",
    "        self.layer = nn.Sequential(\n",
    "            nn.Linear(f_in + time_emb_dim, f_out),\n",
    "            nn.Tanh(),\n",
    "            # BnAndDropout(f_out),\n",
    "        )\n",
    "\n",
    "    def forward(self, x, t):\n",
    "        t = self.time_mlp(t)\n",
    "        x = torch.cat((x, t), dim=1)\n",
    "        return self.layer(x)\n",
    "\n",
    "\n",
    "class SinusoidalPositionEmbeddings(nn.Module):\n",
    "    def __init__(self, dim):\n",
    "        super().__init__()\n",
    "        self.dim = dim\n",
    "\n",
    "    def forward(self, time):\n",
    "        device = time.device\n",
    "        half_dim = self.dim // 2\n",
    "        embeddings = math.log(10000) / (half_dim - 1)\n",
    "        embeddings = torch.exp(torch.arange(half_dim, device=device) * -embeddings)\n",
    "        embeddings = time[:, None] * embeddings[None, :]\n",
    "        embeddings = torch.cat((embeddings.sin(), embeddings.cos()), dim=-1)\n",
    "        # TODO: Double check the ordering here\n",
    "        return embeddings\n"
   ]
  },
  {
   "cell_type": "code",
   "execution_count": 14,
   "metadata": {
    "jupyter": {
     "source_hidden": true
    },
    "pycharm": {
     "name": "#%%\n"
    },
    "tags": []
   },
   "outputs": [],
   "source": [
    "class AE(nn.Module):\n",
    "    def __init__(self, params):\n",
    "        super().__init__()\n",
    "        \n",
    "        self.encode = True\n",
    "        self.decode = True\n",
    "        \n",
    "        self.encoder = []\n",
    "        for i in range(len(params) - 1):\n",
    "            self.encoder.append(Block(params[i], params[i + 1]))\n",
    "        \n",
    "        self.decoder = []\n",
    "        for i in range(len(params) - 1, 0, -1):\n",
    "            self.decoder.append(Block(params[i], params[i - 1]))\n",
    "        \n",
    "        self.encoder = nn.Sequential(*self.encoder)\n",
    "        self.decoder = nn.Sequential(*self.decoder)\n",
    "        \n",
    "    def forward(self, x):\n",
    "        if self.encode:\n",
    "            x = self.encoder(x)\n",
    "        if self.decode:\n",
    "            x = self.decoder(x)\n",
    "        return x\n",
    "\n",
    "    def loss(self):\n",
    "        def _inner(y_hat, y):\n",
    "            return ((y - y_hat)**2).mean(axis=0).sum()\n",
    "\n",
    "        return _inner\n",
    "\n",
    "    def train_fn(self, epoch, epochs, dataloader, loss_fn, optimizer, scheduler, pbar=None, show=True):\n",
    "        self.train()\n",
    "        num_batches = len(dataloader)\n",
    "        for batch, inp_data in enumerate(dataloader.iterate()):\n",
    "            inp_data = torch.Tensor(inp_data).to(device)\n",
    "\n",
    "            output = self(inp_data)\n",
    "            loss = loss_fn(output, inp_data)\n",
    "\n",
    "            optimizer.zero_grad()\n",
    "            loss.backward()\n",
    "            optimizer.step()\n",
    "\n",
    "            if batch % interval == 0:\n",
    "                t = epoch + (batch + 1) / num_batches\n",
    "                train_ts.append(t)\n",
    "                train_loss.append(loss.item())\n",
    "                if show:                \n",
    "                    show_progress(t, epochs, info={'lr': scheduler.get_last_lr()[0]})\n",
    "                if pbar is not None:\n",
    "                    pbar.refresh()\n",
    "        scheduler.step()\n",
    "\n",
    "    @torch.no_grad()\n",
    "    def test_fn(self, epoch, epochs, dataloader, loss_fn, show=True):\n",
    "        self.eval()\n",
    "        num_batches = len(dataloader)\n",
    "        tmp_test_loss = []\n",
    "        for images in dataloader.iterate_test():\n",
    "            images = torch.Tensor(images).to(device)\n",
    "\n",
    "            decoded = self(images)\n",
    "            loss = loss_fn(decoded, images)\n",
    "\n",
    "            tmp_test_loss.append(loss.item())\n",
    "\n",
    "        test_ts.append(epoch)\n",
    "        test_loss.append(np.mean(tmp_test_loss))\n",
    "        if show:\n",
    "            show_progress(epoch, epochs)"
   ]
  },
  {
   "cell_type": "code",
   "execution_count": 15,
   "metadata": {
    "pycharm": {
     "name": "#%%\n"
    },
    "tags": []
   },
   "outputs": [],
   "source": [
    "class CAE(nn.Module):\n",
    "    def __init__(self, params, in_labels, time_emb_dim=32):\n",
    "        super().__init__()\n",
    "        \n",
    "        encoder_params = params[:]\n",
    "        encoder_params[0] += in_labels\n",
    "        \n",
    "        decoder_params = params[::-1]\n",
    "        decoder_params[0] += in_labels\n",
    "\n",
    "        self.encoder = []\n",
    "        for i in range(len(encoder_params) - 1):\n",
    "            self.encoder.append(TimeBlock(encoder_params[i], encoder_params[i + 1], time_emb_dim))\n",
    "        \n",
    "        self.decoder = []\n",
    "        self.decoder.append(Block(decoder_params[0], decoder_params[1]))\n",
    "        for i in range(1, len(decoder_params) - 1):\n",
    "            self.decoder.append(TimeBlock(decoder_params[i] * 2, decoder_params[i + 1], time_emb_dim))\n",
    "\n",
    "        self.encoder = nn.ParameterList(self.encoder)\n",
    "        self.decoder = nn.ParameterList(self.decoder)\n",
    "        \n",
    "        self.time_mlp = nn.Sequential(\n",
    "            SinusoidalPositionEmbeddings(time_emb_dim),\n",
    "            nn.Linear(time_emb_dim, time_emb_dim),\n",
    "            nn.ReLU(),\n",
    "        )\n",
    "        \n",
    "    def forward(self, x, labels, timestep):\n",
    "        shape = x.shape\n",
    "        t = self.time_mlp(timestep)\n",
    "        x = x.view(shape[0], -1)\n",
    "        x = torch.cat((x, labels), 1)\n",
    "        accumulate = []\n",
    "        for layer in self.encoder:\n",
    "            x = layer(x, t)\n",
    "            accumulate.append(x)\n",
    "        accumulate.pop()\n",
    "        \n",
    "        x = torch.cat((x, labels), 1)\n",
    "        x = self.decoder[0](x)\n",
    "        \n",
    "        for layer in self.decoder[1:]:\n",
    "            connection = accumulate.pop()\n",
    "            x = torch.cat((x, connection), 1)\n",
    "            x = layer(x, t)\n",
    "        x = x.view(shape[0], shape[1], -1)\n",
    "        \n",
    "        return x\n",
    "    \n",
    "    def loss(self):\n",
    "        def _inner(y_hat, y):\n",
    "            return ((y - y_hat)**2).mean(axis=0).sum()\n",
    "\n",
    "        return _inner\n",
    "    \n",
    "    def train_fn(self, epoch, epochs, dataloader, loss_fn, optimizer, scheduler, pbar=None, show=True):\n",
    "        self.train()\n",
    "        num_batches = len(dataloader)\n",
    "        for batch, (inp_data, labels) in enumerate(dataloader.iterate()):\n",
    "            inp_data = torch.Tensor(inp_data).to(device)\n",
    "            labels = labels2one_hot(labels).to(device)\n",
    "            t = torch.zeros([len(labels)]).to(device)\n",
    "\n",
    "            output = self(inp_data, labels, t)\n",
    "            loss = loss_fn(output, inp_data)\n",
    "\n",
    "            optimizer.zero_grad()\n",
    "            loss.backward()\n",
    "            optimizer.step()\n",
    "\n",
    "            if batch % interval == 0:\n",
    "                t = epoch + (batch + 1) / num_batches\n",
    "                train_ts.append(t)\n",
    "                train_loss.append(loss.item())\n",
    "                if show:                \n",
    "                    show_progress(t, epochs, info={'lr': scheduler.get_last_lr()[0]})\n",
    "                if pbar is not None:\n",
    "                    pbar.refresh()\n",
    "        scheduler.step()        \n",
    "\n",
    "    @torch.no_grad()\n",
    "    def test_fn(self, epoch, epochs, dataloader, loss_fn, show=True):\n",
    "        self.eval()\n",
    "        tmp_test_loss = []\n",
    "        for inp_data, labels in dataloader.iterate_test():\n",
    "            inp_data = torch.Tensor(inp_data).to(device)\n",
    "            labels = labels2one_hot(labels).to(device)\n",
    "            t = torch.zeros([len(labels)], dtype=torch.int64).to(device)\n",
    "\n",
    "            result = self(inp_data, labels, t)\n",
    "            loss = loss_fn(result, inp_data)\n",
    "\n",
    "            tmp_test_loss.append(loss.item())\n",
    "\n",
    "        test_ts.append(epoch)\n",
    "        test_loss.append(np.mean(tmp_test_loss))\n",
    "        if show:\n",
    "            show_progress(epoch, epochs)"
   ]
  },
  {
   "cell_type": "markdown",
   "metadata": {
    "pycharm": {
     "name": "#%% md\n"
    }
   },
   "source": [
    "## Вспомогательные функции"
   ]
  },
  {
   "cell_type": "code",
   "execution_count": 18,
   "metadata": {
    "pycharm": {
     "name": "#%%\n"
    },
    "tags": []
   },
   "outputs": [],
   "source": [
    "ONE_HOT_LEN = len(dl.GLYPH_FILTER)\n",
    "one_hot_rules = {\n",
    "    glyph: one_hot\n",
    "    for glyph, one_hot in zip(\n",
    "        dl.GLYPH_FILTER, \n",
    "        range(0, ONE_HOT_LEN),\n",
    "    )\n",
    "}\n",
    "\n",
    "def labels2num(labels):\n",
    "    return torch.Tensor([one_hot_rules[i] for i in labels]).long()\n",
    "\n",
    "def labels2one_hot(labels):\n",
    "    return F.one_hot(labels2num(labels), num_classes=ONE_HOT_LEN)"
   ]
  },
  {
   "cell_type": "code",
   "execution_count": 19,
   "metadata": {
    "pycharm": {
     "name": "#%%\n"
    },
    "tags": []
   },
   "outputs": [],
   "source": [
    "epoch = 0\n",
    "\n",
    "def run(model, dataloader, optimizer, scheduler, epochs, params, batch_size, _epoch=0, run_name=None, trial=None):\n",
    "    global epoch\n",
    "\n",
    "    class_name = model.__class__.__name__\n",
    "    if run_name is None:\n",
    "        run_name = f'run_size{SVG.ENCODE_HEIGHT}_{class_name}_{\",\".join(map(str, params))}'\n",
    "\n",
    "    save_folder = Path(f'models_{class_name}') / run_name\n",
    "    loss_img_path = str(save_folder / '_loss.png')\n",
    "    save_folder.mkdir(parents=True, exist_ok=True)\n",
    "    plt.clf()\n",
    "    file_format = 'svg'\n",
    "    max_epoch = epoch + epochs\n",
    "    loss_fn = model.loss()\n",
    "    dataloader.batch_size = batch_size\n",
    "\n",
    "    if trial is None:\n",
    "        pbar = trange(epoch, max_epoch)\n",
    "        rng = pbar\n",
    "    else:\n",
    "        pbar = None\n",
    "        rng = range(epoch, max_epoch)\n",
    "    for _epoch in rng:\n",
    "        model.train_fn(_epoch, max_epoch, dataloader, loss_fn, optimizer, scheduler, pbar, show=trial is None)\n",
    "        model.test_fn(_epoch + 1, max_epoch, dataloader, loss_fn, show=trial is None)\n",
    "\n",
    "        torch.save(model.state_dict(), save_folder / 'ckpt.pt')\n",
    "\n",
    "        if trial is not None:\n",
    "            if trial.should_prune():\n",
    "                raise optuna.exceptions.TrialPruned()\n",
    "        else:\n",
    "            epoch = _epoch + 1\n",
    "        show_progress(_epoch + 1, max_epoch, loss_img_path, info={'params':params, 'lr': scheduler.get_last_lr()[0]})\n",
    "    "
   ]
  },
  {
   "cell_type": "code",
   "execution_count": 20,
   "metadata": {
    "pycharm": {
     "name": "#%%\n"
    },
    "tags": []
   },
   "outputs": [],
   "source": [
    "def setup_maker(model_type):\n",
    "    is_cae =  model_type == 'cae'\n",
    "    model_char = 'c' if is_cae else ''\n",
    "\n",
    "    def _inner(params, lr, weight_decay=2e-5, step_size=1):\n",
    "        global train_ts, train_loss, test_ts, test_loss, epoch\n",
    "\n",
    "        if is_cae:\n",
    "            model = CAE(params, ONE_HOT_LEN).to(device)\n",
    "        else:\n",
    "            model = AE(params).to(device)\n",
    "            \n",
    "        loss_fn = model.loss()\n",
    "        optimizer = optim.Adam(model.parameters(), lr=lr, weight_decay=weight_decay)\n",
    "        scheduler = torch.optim.lr_scheduler.StepLR(optimizer, step_size=step_size, gamma=0.95)\n",
    "\n",
    "        train_ts, train_loss = [], []\n",
    "        test_ts, test_loss = [], []\n",
    "        epoch = 0\n",
    "\n",
    "        return model, optimizer, scheduler, loss_fn\n",
    "\n",
    "    return _inner\n",
    "    \n",
    "setup_cae = setup_maker('cae')\n",
    "setup_ae = setup_maker('ae')"
   ]
  },
  {
   "cell_type": "markdown",
   "metadata": {
    "pycharm": {
     "name": "#%% md\n"
    },
    "tags": []
   },
   "source": [
    "## Поиск конфигурации модели для кодирования линий"
   ]
  },
  {
   "cell_type": "code",
   "execution_count": null,
   "metadata": {
    "jupyter": {
     "source_hidden": true
    },
    "pycharm": {
     "name": "#%%\n"
    },
    "tags": []
   },
   "outputs": [],
   "source": [
    "def run_for_search(trial):\n",
    "    lr = trial.suggest_float('lr', 1e-6, 1e-3, log=True)\n",
    "    params = [\n",
    "        SVG.ENCODE_WIDTH,\n",
    "        trial.suggest_int('p1', 10, 25),\n",
    "        trial.suggest_int('p2', 8, 20),\n",
    "        trial.suggest_int('p3', 4, 10),\n",
    "    ]\n",
    "\n",
    "    for i in range(3):\n",
    "        params.append(trial.suggest_int(f'p{i}', 4, 20))\n",
    "    \n",
    "    model, optimizer, scheduler, loss_fn = setup_ae(\n",
    "        params=params,\n",
    "        lr=lr,\n",
    "        weight_decay=5e-5,\n",
    "    )\n",
    "    run(\n",
    "        model=model, \n",
    "        dataloader=dataloader_rows, \n",
    "        optimizer=optimizer,\n",
    "        scheduler=scheduler,\n",
    "        epochs=4,\n",
    "        params=params,\n",
    "        batch_size=2048,\n",
    "        run_name='temp',\n",
    "        trial=trial,\n",
    "    )\n",
    "    return test_loss[-1] + max(test_loss[-1] - train_loss[-1], 0) ** 2 \n",
    "\n",
    "\n",
    "study = optuna.create_study(\n",
    "    direction=\"minimize\",\n",
    "    storage=\"sqlite:///db.sqlite3\",\n",
    "    study_name=\"ae_lr_3_layers_4_epoch\"\n",
    ")\n",
    "\n",
    "study.optimize(run_for_search, n_trials=50, show_progress_bar=True)"
   ]
  },
  {
   "cell_type": "markdown",
   "metadata": {
    "pycharm": {
     "name": "#%% md\n"
    }
   },
   "source": [
    "## Обучаем кодировщик линий"
   ]
  },
  {
   "cell_type": "code",
   "execution_count": 21,
   "metadata": {
    "pycharm": {
     "name": "#%%\n"
    },
    "tags": []
   },
   "outputs": [],
   "source": [
    "LINE_WIDTH = 12\n",
    "params = [SVG.ENCODE_WIDTH, 19, 15, LINE_WIDTH]\n",
    "\n",
    "model_rows, optimizer_rows, scheduler_rows, loss_fn_rows = setup_ae(\n",
    "    params=params,\n",
    "    lr=6e-4,\n",
    "    weight_decay=3e-6,\n",
    ")"
   ]
  },
  {
   "cell_type": "code",
   "execution_count": 22,
   "metadata": {
    "pycharm": {
     "name": "#%%\n"
    },
    "tags": []
   },
   "outputs": [
    {
     "name": "stderr",
     "output_type": "stream",
     "text": [
      "100%|██████████████████████████████████████████████████████████████████████████████████| 10/10 [13:13<00:00, 79.34s/it]\n"
     ]
    }
   ],
   "source": [
    "run(\n",
    "    model=model_rows, \n",
    "    dataloader=dataloader_rows,\n",
    "    optimizer=optimizer_rows,\n",
    "    scheduler=scheduler_rows,\n",
    "    epochs=10,\n",
    "    params=params,\n",
    "    batch_size=1024,\n",
    ")"
   ]
  },
  {
   "cell_type": "markdown",
   "metadata": {},
   "source": [
    "## Декодировать, нарисовать"
   ]
  },
  {
   "cell_type": "code",
   "execution_count": 23,
   "metadata": {},
   "outputs": [],
   "source": [
    "def decode_img(d):\n",
    "    model_rows.decode = True\n",
    "    model_rows.encode = False\n",
    "    model_rows.eval()\n",
    "    with torch.no_grad():\n",
    "        origin = model_rows(d)\n",
    "        model_rows.encode = True\n",
    "        return origin.cpu().detach().numpy()\n",
    "\n",
    "def encode_img(d):\n",
    "    model_rows.decode = False\n",
    "    model_rows.encode = True\n",
    "    model_rows.eval()\n",
    "    with torch.no_grad():\n",
    "        image = model_rows(d)\n",
    "        model_rows.decode = True\n",
    "        return image.cpu().detach().numpy()\n"
   ]
  },
  {
   "cell_type": "markdown",
   "metadata": {
    "pycharm": {
     "name": "#%% md\n"
    }
   },
   "source": [
    "## Кодируем все линии в датасете"
   ]
  },
  {
   "cell_type": "code",
   "execution_count": 24,
   "metadata": {
    "pycharm": {
     "name": "#%%\n"
    }
   },
   "outputs": [
    {
     "name": "stderr",
     "output_type": "stream",
     "text": [
      "100%|████████████████████████████████████████████████████████████████████████| 182061/182061 [01:25<00:00, 2125.76it/s]\n"
     ]
    }
   ],
   "source": [
    "encoded = []\n",
    "to_encode = np.array(data['data'].to_list(), dtype=np.float32)\n",
    "for image in tqdm(to_encode):\n",
    "    image = torch.Tensor(image).to(device)\n",
    "    encoded.append(encode_img(image))\n",
    "        \n",
    "enc_data = data.copy()\n",
    "enc_data['data'] = encoded\n",
    "\n",
    "enc_dataloader = Dataloader(enc_data, test_size=0.15, shuffle=True)\n",
    "\n",
    "model_rows.decode = True"
   ]
  },
  {
   "cell_type": "code",
   "execution_count": 25,
   "metadata": {},
   "outputs": [
    {
     "name": "stderr",
     "output_type": "stream",
     "text": [
      "C:\\Users\\flydzen\\AppData\\Local\\Temp/ipykernel_14808/3129551380.py:8: MatplotlibDeprecationWarning: Auto-removal of overlapping axes is deprecated since 3.6 and will be removed two minor releases later; explicitly call ax.remove() as needed.\n",
      "  plt.subplot(1, 2, 1)\n"
     ]
    },
    {
     "data": {
      "image/png": "[encoded data removed]",
      "text/plain": [
       "<Figure size 576x576 with 2 Axes>"
      ]
     },
     "metadata": {
      "needs_background": "light"
     },
     "output_type": "display_data"
    }
   ],
   "source": [
    "original_img = dataloader.x_test[0]\n",
    "encoded_img = encode_img(torch.Tensor(original_img).to(device))\n",
    "processed_img = decode_img(torch.Tensor(encoded_img).to(device))\n",
    "\n",
    "plt.figure(figsize=(8, 8))\n",
    "plt.axis('off')\n",
    "\n",
    "plt.subplot(1, 2, 1)\n",
    "save_sampled(original_img, 'origin.svg')\n",
    "show_sampled(original_img)\n",
    "plt.subplot(1, 2, 2)\n",
    "save_sampled(processed_img, 'processed.svg')\n",
    "show_sampled(processed_img)"
   ]
  },
  {
   "cell_type": "markdown",
   "metadata": {
    "pycharm": {
     "name": "#%%\n"
    }
   },
   "source": [
    "## Дифузионная модель"
   ]
  },
  {
   "cell_type": "code",
   "execution_count": 26,
   "metadata": {},
   "outputs": [],
   "source": [
    "class Diffusion:\n",
    "    def __init__(self, model):\n",
    "        self.T = 300\n",
    "        self.betas = self.linear_beta_schedule(timesteps=self.T)\n",
    "\n",
    "        # Pre-calculate different terms for closed form\n",
    "        self.alphas = 1. - self.betas\n",
    "        self.alphas_cumprod = torch.cumprod(self.alphas, axis=0)\n",
    "        self.alphas_cumprod_prev = F.pad(self.alphas_cumprod[:-1], (1, 0), value=1.0)\n",
    "        self.sqrt_recip_alphas = torch.sqrt(1.0 / self.alphas)\n",
    "        self.sqrt_alphas_cumprod = torch.sqrt(self.alphas_cumprod)\n",
    "        self.sqrt_one_minus_alphas_cumprod = torch.sqrt(1. - self.alphas_cumprod)\n",
    "        self.posterior_variance = self.betas * (1. - self.alphas_cumprod_prev) / (1. - self.alphas_cumprod)\n",
    "        \n",
    "        self.model = model\n",
    "    \n",
    "    @staticmethod\n",
    "    def linear_beta_schedule(timesteps, start=0.0001, end=0.02):\n",
    "        return torch.linspace(start, end, timesteps)\n",
    "\n",
    "    @staticmethod\n",
    "    def get_index_from_list(vals, t, x_shape):\n",
    "        \"\"\" \n",
    "        Returns a specific index t of a passed list of values vals\n",
    "        while considering the batch dimension.\n",
    "        \"\"\"\n",
    "        batch_size = t.shape[0]\n",
    "        out = vals.gather(-1, t.cpu())\n",
    "        return out.reshape(batch_size, *((1,) * (len(x_shape) - 1))).to(t.device)\n",
    "\n",
    "    def forward_diffusion_sample(self, x_0, t):\n",
    "        \"\"\" \n",
    "        Takes an image and a timestep as input and \n",
    "        returns the noisy version of it\n",
    "        \"\"\"\n",
    "        noise = torch.randn_like(x_0).to(device)\n",
    "        sqrt_alphas_cumprod_t = self.get_index_from_list(self.sqrt_alphas_cumprod, t, x_0.shape)\n",
    "        sqrt_one_minus_alphas_cumprod_t = self.get_index_from_list(\n",
    "            self.sqrt_one_minus_alphas_cumprod, t, x_0.shape\n",
    "        )\n",
    "        # mean + variance\n",
    "        return sqrt_alphas_cumprod_t * x_0.to(device) + sqrt_one_minus_alphas_cumprod_t * noise, noise\n",
    "\n",
    "    def get_loss(self, x_0, labels, t):\n",
    "        x_noisy, noise = self.forward_diffusion_sample(x_0, t)\n",
    "        noise_pred = self.model(x_noisy, labels, t)\n",
    "        return F.l1_loss(noise, noise_pred)\n",
    "\n",
    "    @torch.no_grad()\n",
    "    def sample_timestep(self, x, labels, t):\n",
    "        \"\"\"\n",
    "        Calls the model to predict the noise in the image and returns \n",
    "        the denoised image. \n",
    "        Applies noise to this image, if we are not in the last step yet.\n",
    "        \"\"\"\n",
    "        betas_t = self.get_index_from_list(self.betas, t, x.shape)\n",
    "        sqrt_one_minus_alphas_cumprod_t = self.get_index_from_list(\n",
    "            self.sqrt_one_minus_alphas_cumprod, t, x.shape\n",
    "        )\n",
    "        sqrt_recip_alphas_t = self.get_index_from_list(self.sqrt_recip_alphas, t, x.shape)\n",
    "\n",
    "        # Call model (current image - noise prediction)\n",
    "        model_mean = sqrt_recip_alphas_t * (\n",
    "            x - betas_t * self.model(x, labels, t) / sqrt_one_minus_alphas_cumprod_t\n",
    "        )\n",
    "        posterior_variance_t = self.get_index_from_list(self.posterior_variance, t, x.shape)\n",
    "\n",
    "        if t == 0:\n",
    "            return model_mean\n",
    "        else:\n",
    "            noise = torch.randn_like(x)\n",
    "            return model_mean + torch.sqrt(posterior_variance_t) * noise \n",
    "\n",
    "    @torch.no_grad()\n",
    "    def sample_plot_image(self):\n",
    "        # Sample noise\n",
    "        img = torch.randn((1, SVG.ENCODE_HEIGHT, LINE_WIDTH), device=device)\n",
    "        label_ind = rnd.randrange(ONE_HOT_LEN)\n",
    "        label = torch.zeros((1, ONE_HOT_LEN), dtype=torch.float32)\n",
    "        plt.figure(figsize=(15,15))\n",
    "        plt.axis('off')\n",
    "        num_images = 10\n",
    "        stepsize = int(self.T / num_images)\n",
    "\n",
    "        for i in range(0, self.T)[::-1]:\n",
    "            t = torch.full((1,), i, device=device, dtype=torch.int64)\n",
    "            img = self.sample_timestep(img, label, t)\n",
    "            print(img.shape)\n",
    "            if i % stepsize == 0:\n",
    "                plt.subplot(1, num_images, i // stepsize + 1)\n",
    "                show_sampled(decode_img(img[0]))\n",
    "        plt.show()\n",
    "    \n",
    "    def train_fn(self, epoch, epochs, dataloader, loss_fn, optimizer, scheduler, pbar=None, show=True):\n",
    "        self.model.train()\n",
    "        num_batches = len(dataloader)\n",
    "        for batch, (inp_data, labels) in enumerate(dataloader.iterate()):\n",
    "            inp_data = torch.Tensor(inp_data).to(device)\n",
    "            labels = labels2one_hot(labels).to(device)\n",
    "            t = torch.randint(0, self.T, [len(labels)], device=device).long()\n",
    "            \n",
    "            optimizer.zero_grad()\n",
    "\n",
    "            loss = self.get_loss(inp_data, labels, t)\n",
    "            loss.backward()\n",
    "            optimizer.step()\n",
    "\n",
    "            if batch % interval == 0:\n",
    "                t = epoch + (batch + 1) / num_batches\n",
    "                train_ts.append(t)\n",
    "                train_loss.append(loss.item())\n",
    "                if show:                \n",
    "                    show_progress(t, epochs, info={'lr': scheduler.get_last_lr()[0]})\n",
    "                if pbar is not None:\n",
    "                    pbar.refresh()\n",
    "        scheduler.step()        \n",
    "\n",
    "    @torch.no_grad()\n",
    "    def test_fn(self, epoch, epochs, dataloader, loss_fn, show=True):\n",
    "        self.model.eval()\n",
    "        tmp_test_loss = []\n",
    "        for inp_data, labels in dataloader.iterate_test():\n",
    "            inp_data = torch.Tensor(inp_data).to(device)\n",
    "            labels = labels2one_hot(labels).to(device)\n",
    "            t = torch.randint(0, self.T, [len(labels)], device=device).long()\n",
    "            \n",
    "            loss = self.get_loss(inp_data, labels, t)\n",
    "            tmp_test_loss.append(loss.item())\n",
    "\n",
    "        test_ts.append(epoch)\n",
    "        test_loss.append(np.mean(tmp_test_loss))\n",
    "        if show:\n",
    "            # show_progress(epoch, epochs)\n",
    "            self.sample_plot_image()\n",
    "            \n",
    "    def loss(self):\n",
    "        return None\n",
    "    \n",
    "    def state_dict(self):\n",
    "        return self.model.state_dict()"
   ]
  },
  {
   "cell_type": "code",
   "execution_count": 27,
   "metadata": {
    "tags": []
   },
   "outputs": [
    {
     "name": "stderr",
     "output_type": "stream",
     "text": [
      "C:\\Users\\flydzen\\AppData\\Local\\Temp/ipykernel_14808/874398062.py:15: MatplotlibDeprecationWarning: Auto-removal of overlapping axes is deprecated since 3.6 and will be removed two minor releases later; explicitly call ax.remove() as needed.\n",
      "  plt.subplot(1, num_images + 1, (idx // stepsize) + 1)\n"
     ]
    },
    {
     "data": {
      "image/png": "[encoded data removed]",
      "text/plain": [
       "<Figure size 1800x1440 with 10 Axes>"
      ]
     },
     "metadata": {
      "needs_background": "light"
     },
     "output_type": "display_data"
    }
   ],
   "source": [
    "diffusion = Diffusion(None)\n",
    "\n",
    "image = torch.Tensor(enc_dataloader.x_test[1]).to(device)\n",
    "\n",
    "plt.figure(figsize=(25, 20))\n",
    "plt.axis('off')\n",
    "num_images = 10\n",
    "\n",
    "# stepsize = diffusion.T // num_images\n",
    "stepsize = 1\n",
    "\n",
    "# for idx in range(0, diffusion.T, stepsize):\n",
    "for idx in range(0, 10):\n",
    "    t = torch.Tensor([idx]).type(torch.int64)\n",
    "    plt.subplot(1, num_images + 1, (idx // stepsize) + 1)\n",
    "    image, noise = diffusion.forward_diffusion_sample(image, t)\n",
    "    decoded_svg = decode_img(image)\n",
    "    show_sampled(decoded_svg)"
   ]
  },
  {
   "cell_type": "code",
   "execution_count": 30,
   "metadata": {
    "tags": []
   },
   "outputs": [],
   "source": [
    "params = [SVG.ENCODE_HEIGHT * LINE_WIDTH, 2350, 2300, 1640, 1128, 494]\n",
    "\n",
    "model, optimizer, scheduler, loss_fn = setup_cae(\n",
    "    params=params,\n",
    "    lr=2e-4,\n",
    "    weight_decay=2e-5,\n",
    ")\n",
    "\n",
    "diffusion = Diffusion(model)"
   ]
  },
  {
   "cell_type": "code",
   "execution_count": 31,
   "metadata": {},
   "outputs": [
    {
     "data": {
      "text/plain": [
       "<Figure size 432x288 with 0 Axes>"
      ]
     },
     "metadata": {},
     "output_type": "display_data"
    },
    {
     "data": {
      "image/png": "[encoded data removed]",
      "text/plain": [
       "<Figure size 864x720 with 2 Axes>"
      ]
     },
     "metadata": {
      "needs_background": "light"
     },
     "output_type": "display_data"
    },
    {
     "name": "stderr",
     "output_type": "stream",
     "text": [
      "  0%|                                                                                           | 0/20 [19:33<?, ?it/s]\n"
     ]
    },
    {
     "ename": "KeyboardInterrupt",
     "evalue": "",
     "output_type": "error",
     "traceback": [
      "\u001b[1;31m---------------------------------------------------------------------------\u001b[0m",
      "\u001b[1;31mKeyboardInterrupt\u001b[0m                         Traceback (most recent call last)",
      "\u001b[1;32m~\\AppData\\Local\\Temp/ipykernel_14808/2314519515.py\u001b[0m in \u001b[0;36m<module>\u001b[1;34m\u001b[0m\n\u001b[1;32m----> 1\u001b[1;33m run(\n\u001b[0m\u001b[0;32m      2\u001b[0m     \u001b[0mmodel\u001b[0m\u001b[1;33m=\u001b[0m\u001b[0mmodel\u001b[0m\u001b[1;33m,\u001b[0m\u001b[1;33m\u001b[0m\u001b[1;33m\u001b[0m\u001b[0m\n\u001b[0;32m      3\u001b[0m     \u001b[0mdataloader\u001b[0m\u001b[1;33m=\u001b[0m\u001b[0menc_dataloader\u001b[0m\u001b[1;33m,\u001b[0m\u001b[1;33m\u001b[0m\u001b[1;33m\u001b[0m\u001b[0m\n\u001b[0;32m      4\u001b[0m     \u001b[0moptimizer\u001b[0m\u001b[1;33m=\u001b[0m\u001b[0moptimizer\u001b[0m\u001b[1;33m,\u001b[0m\u001b[1;33m\u001b[0m\u001b[1;33m\u001b[0m\u001b[0m\n\u001b[0;32m      5\u001b[0m     \u001b[0mscheduler\u001b[0m\u001b[1;33m=\u001b[0m\u001b[0mscheduler\u001b[0m\u001b[1;33m,\u001b[0m\u001b[1;33m\u001b[0m\u001b[1;33m\u001b[0m\u001b[0m\n",
      "\u001b[1;32m~\\AppData\\Local\\Temp/ipykernel_14808/3274899980.py\u001b[0m in \u001b[0;36mrun\u001b[1;34m(model, dataloader, optimizer, scheduler, epochs, params, batch_size, _epoch, run_name, trial)\u001b[0m\n\u001b[0;32m     24\u001b[0m         \u001b[0mrng\u001b[0m \u001b[1;33m=\u001b[0m \u001b[0mrange\u001b[0m\u001b[1;33m(\u001b[0m\u001b[0mepoch\u001b[0m\u001b[1;33m,\u001b[0m \u001b[0mmax_epoch\u001b[0m\u001b[1;33m)\u001b[0m\u001b[1;33m\u001b[0m\u001b[1;33m\u001b[0m\u001b[0m\n\u001b[0;32m     25\u001b[0m     \u001b[1;32mfor\u001b[0m \u001b[0m_epoch\u001b[0m \u001b[1;32min\u001b[0m \u001b[0mrng\u001b[0m\u001b[1;33m:\u001b[0m\u001b[1;33m\u001b[0m\u001b[1;33m\u001b[0m\u001b[0m\n\u001b[1;32m---> 26\u001b[1;33m         \u001b[0mmodel\u001b[0m\u001b[1;33m.\u001b[0m\u001b[0mtrain_fn\u001b[0m\u001b[1;33m(\u001b[0m\u001b[0m_epoch\u001b[0m\u001b[1;33m,\u001b[0m \u001b[0mmax_epoch\u001b[0m\u001b[1;33m,\u001b[0m \u001b[0mdataloader\u001b[0m\u001b[1;33m,\u001b[0m \u001b[0mloss_fn\u001b[0m\u001b[1;33m,\u001b[0m \u001b[0moptimizer\u001b[0m\u001b[1;33m,\u001b[0m \u001b[0mscheduler\u001b[0m\u001b[1;33m,\u001b[0m \u001b[0mpbar\u001b[0m\u001b[1;33m,\u001b[0m \u001b[0mshow\u001b[0m\u001b[1;33m=\u001b[0m\u001b[0mtrial\u001b[0m \u001b[1;32mis\u001b[0m \u001b[1;32mNone\u001b[0m\u001b[1;33m)\u001b[0m\u001b[1;33m\u001b[0m\u001b[1;33m\u001b[0m\u001b[0m\n\u001b[0m\u001b[0;32m     27\u001b[0m         \u001b[0mmodel\u001b[0m\u001b[1;33m.\u001b[0m\u001b[0mtest_fn\u001b[0m\u001b[1;33m(\u001b[0m\u001b[0m_epoch\u001b[0m \u001b[1;33m+\u001b[0m \u001b[1;36m1\u001b[0m\u001b[1;33m,\u001b[0m \u001b[0mmax_epoch\u001b[0m\u001b[1;33m,\u001b[0m \u001b[0mdataloader\u001b[0m\u001b[1;33m,\u001b[0m \u001b[0mloss_fn\u001b[0m\u001b[1;33m,\u001b[0m \u001b[0mshow\u001b[0m\u001b[1;33m=\u001b[0m\u001b[0mtrial\u001b[0m \u001b[1;32mis\u001b[0m \u001b[1;32mNone\u001b[0m\u001b[1;33m)\u001b[0m\u001b[1;33m\u001b[0m\u001b[1;33m\u001b[0m\u001b[0m\n\u001b[0;32m     28\u001b[0m \u001b[1;33m\u001b[0m\u001b[0m\n",
      "\u001b[1;32m~\\AppData\\Local\\Temp/ipykernel_14808/3882983134.py\u001b[0m in \u001b[0;36mtrain_fn\u001b[1;34m(self, epoch, epochs, dataloader, loss_fn, optimizer, scheduler, pbar, show)\u001b[0m\n\u001b[0;32m     63\u001b[0m             \u001b[0mt\u001b[0m \u001b[1;33m=\u001b[0m \u001b[0mtorch\u001b[0m\u001b[1;33m.\u001b[0m\u001b[0mzeros\u001b[0m\u001b[1;33m(\u001b[0m\u001b[1;33m[\u001b[0m\u001b[0mlen\u001b[0m\u001b[1;33m(\u001b[0m\u001b[0mlabels\u001b[0m\u001b[1;33m)\u001b[0m\u001b[1;33m]\u001b[0m\u001b[1;33m)\u001b[0m\u001b[1;33m.\u001b[0m\u001b[0mto\u001b[0m\u001b[1;33m(\u001b[0m\u001b[0mdevice\u001b[0m\u001b[1;33m)\u001b[0m\u001b[1;33m\u001b[0m\u001b[1;33m\u001b[0m\u001b[0m\n\u001b[0;32m     64\u001b[0m \u001b[1;33m\u001b[0m\u001b[0m\n\u001b[1;32m---> 65\u001b[1;33m             \u001b[0moutput\u001b[0m \u001b[1;33m=\u001b[0m \u001b[0mself\u001b[0m\u001b[1;33m(\u001b[0m\u001b[0minp_data\u001b[0m\u001b[1;33m,\u001b[0m \u001b[0mlabels\u001b[0m\u001b[1;33m,\u001b[0m \u001b[0mt\u001b[0m\u001b[1;33m)\u001b[0m\u001b[1;33m\u001b[0m\u001b[1;33m\u001b[0m\u001b[0m\n\u001b[0m\u001b[0;32m     66\u001b[0m             \u001b[0mloss\u001b[0m \u001b[1;33m=\u001b[0m \u001b[0mloss_fn\u001b[0m\u001b[1;33m(\u001b[0m\u001b[0moutput\u001b[0m\u001b[1;33m,\u001b[0m \u001b[0minp_data\u001b[0m\u001b[1;33m)\u001b[0m\u001b[1;33m\u001b[0m\u001b[1;33m\u001b[0m\u001b[0m\n\u001b[0;32m     67\u001b[0m \u001b[1;33m\u001b[0m\u001b[0m\n",
      "\u001b[1;32m~\\AppData\\Local\\Programs\\Python\\Python310\\lib\\site-packages\\torch\\nn\\modules\\module.py\u001b[0m in \u001b[0;36m_call_impl\u001b[1;34m(self, *input, **kwargs)\u001b[0m\n\u001b[0;32m   1192\u001b[0m         if not (self._backward_hooks or self._forward_hooks or self._forward_pre_hooks or _global_backward_hooks\n\u001b[0;32m   1193\u001b[0m                 or _global_forward_hooks or _global_forward_pre_hooks):\n\u001b[1;32m-> 1194\u001b[1;33m             \u001b[1;32mreturn\u001b[0m \u001b[0mforward_call\u001b[0m\u001b[1;33m(\u001b[0m\u001b[1;33m*\u001b[0m\u001b[0minput\u001b[0m\u001b[1;33m,\u001b[0m \u001b[1;33m**\u001b[0m\u001b[0mkwargs\u001b[0m\u001b[1;33m)\u001b[0m\u001b[1;33m\u001b[0m\u001b[1;33m\u001b[0m\u001b[0m\n\u001b[0m\u001b[0;32m   1195\u001b[0m         \u001b[1;31m# Do not call functions when jit is used\u001b[0m\u001b[1;33m\u001b[0m\u001b[1;33m\u001b[0m\u001b[0m\n\u001b[0;32m   1196\u001b[0m         \u001b[0mfull_backward_hooks\u001b[0m\u001b[1;33m,\u001b[0m \u001b[0mnon_full_backward_hooks\u001b[0m \u001b[1;33m=\u001b[0m \u001b[1;33m[\u001b[0m\u001b[1;33m]\u001b[0m\u001b[1;33m,\u001b[0m \u001b[1;33m[\u001b[0m\u001b[1;33m]\u001b[0m\u001b[1;33m\u001b[0m\u001b[1;33m\u001b[0m\u001b[0m\n",
      "\u001b[1;32m~\\AppData\\Local\\Temp/ipykernel_14808/3882983134.py\u001b[0m in \u001b[0;36mforward\u001b[1;34m(self, x, labels, timestep)\u001b[0m\n\u001b[0;32m     34\u001b[0m         \u001b[0maccumulate\u001b[0m \u001b[1;33m=\u001b[0m \u001b[1;33m[\u001b[0m\u001b[1;33m]\u001b[0m\u001b[1;33m\u001b[0m\u001b[1;33m\u001b[0m\u001b[0m\n\u001b[0;32m     35\u001b[0m         \u001b[1;32mfor\u001b[0m \u001b[0mlayer\u001b[0m \u001b[1;32min\u001b[0m \u001b[0mself\u001b[0m\u001b[1;33m.\u001b[0m\u001b[0mencoder\u001b[0m\u001b[1;33m:\u001b[0m\u001b[1;33m\u001b[0m\u001b[1;33m\u001b[0m\u001b[0m\n\u001b[1;32m---> 36\u001b[1;33m             \u001b[0mx\u001b[0m \u001b[1;33m=\u001b[0m \u001b[0mlayer\u001b[0m\u001b[1;33m(\u001b[0m\u001b[0mx\u001b[0m\u001b[1;33m,\u001b[0m \u001b[0mt\u001b[0m\u001b[1;33m)\u001b[0m\u001b[1;33m\u001b[0m\u001b[1;33m\u001b[0m\u001b[0m\n\u001b[0m\u001b[0;32m     37\u001b[0m             \u001b[0maccumulate\u001b[0m\u001b[1;33m.\u001b[0m\u001b[0mappend\u001b[0m\u001b[1;33m(\u001b[0m\u001b[0mx\u001b[0m\u001b[1;33m)\u001b[0m\u001b[1;33m\u001b[0m\u001b[1;33m\u001b[0m\u001b[0m\n\u001b[0;32m     38\u001b[0m         \u001b[0maccumulate\u001b[0m\u001b[1;33m.\u001b[0m\u001b[0mpop\u001b[0m\u001b[1;33m(\u001b[0m\u001b[1;33m)\u001b[0m\u001b[1;33m\u001b[0m\u001b[1;33m\u001b[0m\u001b[0m\n",
      "\u001b[1;32m~\\AppData\\Local\\Programs\\Python\\Python310\\lib\\site-packages\\torch\\nn\\modules\\module.py\u001b[0m in \u001b[0;36m_call_impl\u001b[1;34m(self, *input, **kwargs)\u001b[0m\n\u001b[0;32m   1192\u001b[0m         if not (self._backward_hooks or self._forward_hooks or self._forward_pre_hooks or _global_backward_hooks\n\u001b[0;32m   1193\u001b[0m                 or _global_forward_hooks or _global_forward_pre_hooks):\n\u001b[1;32m-> 1194\u001b[1;33m             \u001b[1;32mreturn\u001b[0m \u001b[0mforward_call\u001b[0m\u001b[1;33m(\u001b[0m\u001b[1;33m*\u001b[0m\u001b[0minput\u001b[0m\u001b[1;33m,\u001b[0m \u001b[1;33m**\u001b[0m\u001b[0mkwargs\u001b[0m\u001b[1;33m)\u001b[0m\u001b[1;33m\u001b[0m\u001b[1;33m\u001b[0m\u001b[0m\n\u001b[0m\u001b[0;32m   1195\u001b[0m         \u001b[1;31m# Do not call functions when jit is used\u001b[0m\u001b[1;33m\u001b[0m\u001b[1;33m\u001b[0m\u001b[0m\n\u001b[0;32m   1196\u001b[0m         \u001b[0mfull_backward_hooks\u001b[0m\u001b[1;33m,\u001b[0m \u001b[0mnon_full_backward_hooks\u001b[0m \u001b[1;33m=\u001b[0m \u001b[1;33m[\u001b[0m\u001b[1;33m]\u001b[0m\u001b[1;33m,\u001b[0m \u001b[1;33m[\u001b[0m\u001b[1;33m]\u001b[0m\u001b[1;33m\u001b[0m\u001b[1;33m\u001b[0m\u001b[0m\n",
      "\u001b[1;32m~\\AppData\\Local\\Temp/ipykernel_14808/2275274046.py\u001b[0m in \u001b[0;36mforward\u001b[1;34m(self, x, t)\u001b[0m\n\u001b[0;32m     38\u001b[0m         \u001b[0mt\u001b[0m \u001b[1;33m=\u001b[0m \u001b[0mself\u001b[0m\u001b[1;33m.\u001b[0m\u001b[0mtime_mlp\u001b[0m\u001b[1;33m(\u001b[0m\u001b[0mt\u001b[0m\u001b[1;33m)\u001b[0m\u001b[1;33m\u001b[0m\u001b[1;33m\u001b[0m\u001b[0m\n\u001b[0;32m     39\u001b[0m         \u001b[0mx\u001b[0m \u001b[1;33m=\u001b[0m \u001b[0mtorch\u001b[0m\u001b[1;33m.\u001b[0m\u001b[0mcat\u001b[0m\u001b[1;33m(\u001b[0m\u001b[1;33m(\u001b[0m\u001b[0mx\u001b[0m\u001b[1;33m,\u001b[0m \u001b[0mt\u001b[0m\u001b[1;33m)\u001b[0m\u001b[1;33m,\u001b[0m \u001b[0mdim\u001b[0m\u001b[1;33m=\u001b[0m\u001b[1;36m1\u001b[0m\u001b[1;33m)\u001b[0m\u001b[1;33m\u001b[0m\u001b[1;33m\u001b[0m\u001b[0m\n\u001b[1;32m---> 40\u001b[1;33m         \u001b[1;32mreturn\u001b[0m \u001b[0mself\u001b[0m\u001b[1;33m.\u001b[0m\u001b[0mlayer\u001b[0m\u001b[1;33m(\u001b[0m\u001b[0mx\u001b[0m\u001b[1;33m)\u001b[0m\u001b[1;33m\u001b[0m\u001b[1;33m\u001b[0m\u001b[0m\n\u001b[0m\u001b[0;32m     41\u001b[0m \u001b[1;33m\u001b[0m\u001b[0m\n\u001b[0;32m     42\u001b[0m \u001b[1;33m\u001b[0m\u001b[0m\n",
      "\u001b[1;32m~\\AppData\\Local\\Programs\\Python\\Python310\\lib\\site-packages\\torch\\nn\\modules\\module.py\u001b[0m in \u001b[0;36m_call_impl\u001b[1;34m(self, *input, **kwargs)\u001b[0m\n\u001b[0;32m   1192\u001b[0m         if not (self._backward_hooks or self._forward_hooks or self._forward_pre_hooks or _global_backward_hooks\n\u001b[0;32m   1193\u001b[0m                 or _global_forward_hooks or _global_forward_pre_hooks):\n\u001b[1;32m-> 1194\u001b[1;33m             \u001b[1;32mreturn\u001b[0m \u001b[0mforward_call\u001b[0m\u001b[1;33m(\u001b[0m\u001b[1;33m*\u001b[0m\u001b[0minput\u001b[0m\u001b[1;33m,\u001b[0m \u001b[1;33m**\u001b[0m\u001b[0mkwargs\u001b[0m\u001b[1;33m)\u001b[0m\u001b[1;33m\u001b[0m\u001b[1;33m\u001b[0m\u001b[0m\n\u001b[0m\u001b[0;32m   1195\u001b[0m         \u001b[1;31m# Do not call functions when jit is used\u001b[0m\u001b[1;33m\u001b[0m\u001b[1;33m\u001b[0m\u001b[0m\n\u001b[0;32m   1196\u001b[0m         \u001b[0mfull_backward_hooks\u001b[0m\u001b[1;33m,\u001b[0m \u001b[0mnon_full_backward_hooks\u001b[0m \u001b[1;33m=\u001b[0m \u001b[1;33m[\u001b[0m\u001b[1;33m]\u001b[0m\u001b[1;33m,\u001b[0m \u001b[1;33m[\u001b[0m\u001b[1;33m]\u001b[0m\u001b[1;33m\u001b[0m\u001b[1;33m\u001b[0m\u001b[0m\n",
      "\u001b[1;32m~\\AppData\\Local\\Programs\\Python\\Python310\\lib\\site-packages\\torch\\nn\\modules\\container.py\u001b[0m in \u001b[0;36mforward\u001b[1;34m(self, input)\u001b[0m\n\u001b[0;32m    202\u001b[0m     \u001b[1;32mdef\u001b[0m \u001b[0mforward\u001b[0m\u001b[1;33m(\u001b[0m\u001b[0mself\u001b[0m\u001b[1;33m,\u001b[0m \u001b[0minput\u001b[0m\u001b[1;33m)\u001b[0m\u001b[1;33m:\u001b[0m\u001b[1;33m\u001b[0m\u001b[1;33m\u001b[0m\u001b[0m\n\u001b[0;32m    203\u001b[0m         \u001b[1;32mfor\u001b[0m \u001b[0mmodule\u001b[0m \u001b[1;32min\u001b[0m \u001b[0mself\u001b[0m\u001b[1;33m:\u001b[0m\u001b[1;33m\u001b[0m\u001b[1;33m\u001b[0m\u001b[0m\n\u001b[1;32m--> 204\u001b[1;33m             \u001b[0minput\u001b[0m \u001b[1;33m=\u001b[0m \u001b[0mmodule\u001b[0m\u001b[1;33m(\u001b[0m\u001b[0minput\u001b[0m\u001b[1;33m)\u001b[0m\u001b[1;33m\u001b[0m\u001b[1;33m\u001b[0m\u001b[0m\n\u001b[0m\u001b[0;32m    205\u001b[0m         \u001b[1;32mreturn\u001b[0m \u001b[0minput\u001b[0m\u001b[1;33m\u001b[0m\u001b[1;33m\u001b[0m\u001b[0m\n\u001b[0;32m    206\u001b[0m \u001b[1;33m\u001b[0m\u001b[0m\n",
      "\u001b[1;32m~\\AppData\\Local\\Programs\\Python\\Python310\\lib\\site-packages\\torch\\nn\\modules\\module.py\u001b[0m in \u001b[0;36m_call_impl\u001b[1;34m(self, *input, **kwargs)\u001b[0m\n\u001b[0;32m   1192\u001b[0m         if not (self._backward_hooks or self._forward_hooks or self._forward_pre_hooks or _global_backward_hooks\n\u001b[0;32m   1193\u001b[0m                 or _global_forward_hooks or _global_forward_pre_hooks):\n\u001b[1;32m-> 1194\u001b[1;33m             \u001b[1;32mreturn\u001b[0m \u001b[0mforward_call\u001b[0m\u001b[1;33m(\u001b[0m\u001b[1;33m*\u001b[0m\u001b[0minput\u001b[0m\u001b[1;33m,\u001b[0m \u001b[1;33m**\u001b[0m\u001b[0mkwargs\u001b[0m\u001b[1;33m)\u001b[0m\u001b[1;33m\u001b[0m\u001b[1;33m\u001b[0m\u001b[0m\n\u001b[0m\u001b[0;32m   1195\u001b[0m         \u001b[1;31m# Do not call functions when jit is used\u001b[0m\u001b[1;33m\u001b[0m\u001b[1;33m\u001b[0m\u001b[0m\n\u001b[0;32m   1196\u001b[0m         \u001b[0mfull_backward_hooks\u001b[0m\u001b[1;33m,\u001b[0m \u001b[0mnon_full_backward_hooks\u001b[0m \u001b[1;33m=\u001b[0m \u001b[1;33m[\u001b[0m\u001b[1;33m]\u001b[0m\u001b[1;33m,\u001b[0m \u001b[1;33m[\u001b[0m\u001b[1;33m]\u001b[0m\u001b[1;33m\u001b[0m\u001b[1;33m\u001b[0m\u001b[0m\n",
      "\u001b[1;32m~\\AppData\\Local\\Programs\\Python\\Python310\\lib\\site-packages\\torch\\nn\\modules\\linear.py\u001b[0m in \u001b[0;36mforward\u001b[1;34m(self, input)\u001b[0m\n\u001b[0;32m    112\u001b[0m \u001b[1;33m\u001b[0m\u001b[0m\n\u001b[0;32m    113\u001b[0m     \u001b[1;32mdef\u001b[0m \u001b[0mforward\u001b[0m\u001b[1;33m(\u001b[0m\u001b[0mself\u001b[0m\u001b[1;33m,\u001b[0m \u001b[0minput\u001b[0m\u001b[1;33m:\u001b[0m \u001b[0mTensor\u001b[0m\u001b[1;33m)\u001b[0m \u001b[1;33m->\u001b[0m \u001b[0mTensor\u001b[0m\u001b[1;33m:\u001b[0m\u001b[1;33m\u001b[0m\u001b[1;33m\u001b[0m\u001b[0m\n\u001b[1;32m--> 114\u001b[1;33m         \u001b[1;32mreturn\u001b[0m \u001b[0mF\u001b[0m\u001b[1;33m.\u001b[0m\u001b[0mlinear\u001b[0m\u001b[1;33m(\u001b[0m\u001b[0minput\u001b[0m\u001b[1;33m,\u001b[0m \u001b[0mself\u001b[0m\u001b[1;33m.\u001b[0m\u001b[0mweight\u001b[0m\u001b[1;33m,\u001b[0m \u001b[0mself\u001b[0m\u001b[1;33m.\u001b[0m\u001b[0mbias\u001b[0m\u001b[1;33m)\u001b[0m\u001b[1;33m\u001b[0m\u001b[1;33m\u001b[0m\u001b[0m\n\u001b[0m\u001b[0;32m    115\u001b[0m \u001b[1;33m\u001b[0m\u001b[0m\n\u001b[0;32m    116\u001b[0m     \u001b[1;32mdef\u001b[0m \u001b[0mextra_repr\u001b[0m\u001b[1;33m(\u001b[0m\u001b[0mself\u001b[0m\u001b[1;33m)\u001b[0m \u001b[1;33m->\u001b[0m \u001b[0mstr\u001b[0m\u001b[1;33m:\u001b[0m\u001b[1;33m\u001b[0m\u001b[1;33m\u001b[0m\u001b[0m\n",
      "\u001b[1;31mKeyboardInterrupt\u001b[0m: "
     ]
    }
   ],
   "source": [
    "run(\n",
    "    model=model, \n",
    "    dataloader=enc_dataloader, \n",
    "    optimizer=optimizer, \n",
    "    scheduler=scheduler, \n",
    "    epochs=20,\n",
    "    params=params,\n",
    "    batch_size=128,\n",
    ")"
   ]
  },
  {
   "cell_type": "code",
   "execution_count": null,
   "metadata": {},
   "outputs": [],
   "source": [
    "# epoch = 0\n",
    "run(\n",
    "    model=diffusion, \n",
    "    dataloader=enc_dataloader,\n",
    "    optimizer=optimizer, \n",
    "    scheduler=scheduler, \n",
    "    epochs=20,\n",
    "    params=params,\n",
    "    batch_size=128,\n",
    "    # run_name=f'run_diffusion_size{SVG.ENCODE_HEIGHT}_{\",\".join(map(str, params))}',\n",
    ")"
   ]
  },
  {
   "cell_type": "code",
   "execution_count": null,
   "metadata": {},
   "outputs": [],
   "source": []
  }
 ],
 "metadata": {
  "kernelspec": {
   "display_name": "Python 3 (ipykernel)",
   "language": "python",
   "name": "python3"
  },
  "language_info": {
   "codemirror_mode": {
    "name": "ipython",
    "version": 3
   },
   "file_extension": ".py",
   "mimetype": "text/x-python",
   "name": "python",
   "nbconvert_exporter": "python",
   "pygments_lexer": "ipython3",
   "version": "3.10.9"
  }
 },
 "nbformat": 4,
 "nbformat_minor": 4
}
