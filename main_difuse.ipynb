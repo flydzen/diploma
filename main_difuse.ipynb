{
 "cells": [
  {
   "cell_type": "code",
   "execution_count": 67,
   "metadata": {
    "cellId": "irqoxun6n9ixk11gv0tjv",
    "collapsed": true,
    "jupyter": {
     "outputs_hidden": true
    }
   },
   "outputs": [
    {
     "name": "stdout",
     "output_type": "stream",
     "text": [
      "Defaulting to user installation because normal site-packages is not writeable\n",
      "Requirement already satisfied: numpy==1.21.0 in /home/jupyter/.local/lib/python3.8/site-packages (from -r requirements.txt (line 1)) (1.21.0)\n",
      "Requirement already satisfied: wget==3.2 in /usr/local/lib/python3.8/dist-packages (from -r requirements.txt (line 2)) (3.2)\n",
      "Requirement already satisfied: fonttools==4.38.0 in /kernel/lib/python3.8/site-packages (from -r requirements.txt (line 3)) (4.38.0)\n",
      "Requirement already satisfied: opentypesvg==1.1.5 in /home/jupyter/.local/lib/python3.8/site-packages (from -r requirements.txt (line 4)) (1.1.5)\n",
      "Requirement already satisfied: xmltodict==0.13.0 in /home/jupyter/.local/lib/python3.8/site-packages (from -r requirements.txt (line 5)) (0.13.0)\n",
      "Requirement already satisfied: matplotlib==3.7.0 in /home/jupyter/.local/lib/python3.8/site-packages (from -r requirements.txt (line 6)) (3.7.0)\n",
      "Requirement already satisfied: pandas==1.5.3 in /home/jupyter/.local/lib/python3.8/site-packages (from -r requirements.txt (line 7)) (1.5.3)\n",
      "Requirement already satisfied: tqdm==4.64.1 in /home/jupyter/.local/lib/python3.8/site-packages (from -r requirements.txt (line 8)) (4.64.1)\n",
      "Requirement already satisfied: scikit-learn==1.2.1 in /home/jupyter/.local/lib/python3.8/site-packages (from -r requirements.txt (line 9)) (1.2.1)\n",
      "Requirement already satisfied: torchsummary==1.5.1 in /home/jupyter/.local/lib/python3.8/site-packages (from -r requirements.txt (line 10)) (1.5.1)\n",
      "Requirement already satisfied: optuna==3.1.0 in /home/jupyter/.local/lib/python3.8/site-packages (from -r requirements.txt (line 11)) (3.1.0)\n",
      "Requirement already satisfied: cairosvg in /home/jupyter/.local/lib/python3.8/site-packages (from -r requirements.txt (line 12)) (2.6.0)\n",
      "Requirement already satisfied: cycler>=0.10 in /kernel/lib/python3.8/site-packages (from matplotlib==3.7.0->-r requirements.txt (line 6)) (0.11.0)\n",
      "Requirement already satisfied: pyparsing>=2.3.1 in /kernel/lib/python3.8/site-packages (from matplotlib==3.7.0->-r requirements.txt (line 6)) (2.4.7)\n",
      "Requirement already satisfied: python-dateutil>=2.7 in /kernel/lib/python3.8/site-packages (from matplotlib==3.7.0->-r requirements.txt (line 6)) (2.8.2)\n",
      "Requirement already satisfied: pillow>=6.2.0 in /kernel/lib/python3.8/site-packages (from matplotlib==3.7.0->-r requirements.txt (line 6)) (9.4.0)\n",
      "Requirement already satisfied: importlib-resources>=3.2.0 in /kernel/lib/python3.8/site-packages (from matplotlib==3.7.0->-r requirements.txt (line 6)) (5.12.0)\n",
      "Requirement already satisfied: packaging>=20.0 in /kernel/lib/python3.8/site-packages (from matplotlib==3.7.0->-r requirements.txt (line 6)) (20.9)\n",
      "Requirement already satisfied: contourpy>=1.0.1 in /kernel/lib/python3.8/site-packages (from matplotlib==3.7.0->-r requirements.txt (line 6)) (1.0.7)\n",
      "Requirement already satisfied: kiwisolver>=1.0.1 in /kernel/lib/python3.8/site-packages (from matplotlib==3.7.0->-r requirements.txt (line 6)) (1.4.4)\n",
      "Requirement already satisfied: pytz>=2020.1 in /usr/local/lib/python3.8/dist-packages (from pandas==1.5.3->-r requirements.txt (line 7)) (2021.3)\n",
      "Requirement already satisfied: threadpoolctl>=2.0.0 in /home/jupyter/.local/lib/python3.8/site-packages (from scikit-learn==1.2.1->-r requirements.txt (line 9)) (3.1.0)\n",
      "Requirement already satisfied: scipy>=1.3.2 in /usr/local/lib/python3.8/dist-packages (from scikit-learn==1.2.1->-r requirements.txt (line 9)) (1.4.1)\n",
      "Requirement already satisfied: joblib>=1.1.1 in /home/jupyter/.local/lib/python3.8/site-packages (from scikit-learn==1.2.1->-r requirements.txt (line 9)) (1.2.0)\n",
      "Requirement already satisfied: PyYAML in /usr/local/lib/python3.8/dist-packages (from optuna==3.1.0->-r requirements.txt (line 11)) (5.3.1)\n",
      "Requirement already satisfied: sqlalchemy>=1.3.0 in /home/jupyter/.local/lib/python3.8/site-packages (from optuna==3.1.0->-r requirements.txt (line 11)) (2.0.4)\n",
      "Requirement already satisfied: cmaes>=0.9.1 in /home/jupyter/.local/lib/python3.8/site-packages (from optuna==3.1.0->-r requirements.txt (line 11)) (0.9.1)\n",
      "Requirement already satisfied: alembic>=1.5.0 in /home/jupyter/.local/lib/python3.8/site-packages (from optuna==3.1.0->-r requirements.txt (line 11)) (1.9.4)\n",
      "Requirement already satisfied: colorlog in /home/jupyter/.local/lib/python3.8/site-packages (from optuna==3.1.0->-r requirements.txt (line 11)) (6.7.0)\n",
      "Requirement already satisfied: defusedxml in /kernel/lib/python3.8/site-packages (from cairosvg->-r requirements.txt (line 12)) (0.7.1)\n",
      "Requirement already satisfied: cairocffi in /home/jupyter/.local/lib/python3.8/site-packages (from cairosvg->-r requirements.txt (line 12)) (1.4.0)\n",
      "Requirement already satisfied: tinycss2 in /kernel/lib/python3.8/site-packages (from cairosvg->-r requirements.txt (line 12)) (1.2.1)\n",
      "Requirement already satisfied: cssselect2 in /home/jupyter/.local/lib/python3.8/site-packages (from cairosvg->-r requirements.txt (line 12)) (0.7.0)\n",
      "Requirement already satisfied: importlib-metadata in /kernel/lib/python3.8/site-packages (from alembic>=1.5.0->optuna==3.1.0->-r requirements.txt (line 11)) (6.0.0)\n",
      "Requirement already satisfied: Mako in /home/jupyter/.local/lib/python3.8/site-packages (from alembic>=1.5.0->optuna==3.1.0->-r requirements.txt (line 11)) (1.2.4)\n",
      "Requirement already satisfied: brotli>=1.0.1 in /home/jupyter/.local/lib/python3.8/site-packages (from fonttools==4.38.0->-r requirements.txt (line 3)) (1.0.9)\n",
      "Requirement already satisfied: zopfli>=0.1.4 in /home/jupyter/.local/lib/python3.8/site-packages (from fonttools==4.38.0->-r requirements.txt (line 3)) (0.2.2)\n",
      "Requirement already satisfied: zipp>=3.1.0 in /kernel/lib/python3.8/site-packages (from importlib-resources>=3.2.0->matplotlib==3.7.0->-r requirements.txt (line 6)) (3.15.0)\n",
      "Requirement already satisfied: six>=1.5 in /kernel/lib/python3.8/site-packages (from python-dateutil>=2.7->matplotlib==3.7.0->-r requirements.txt (line 6)) (1.16.0)\n",
      "Requirement already satisfied: typing-extensions>=4.2.0 in /home/jupyter/.local/lib/python3.8/site-packages (from sqlalchemy>=1.3.0->optuna==3.1.0->-r requirements.txt (line 11)) (4.5.0)\n",
      "Requirement already satisfied: greenlet!=0.4.17 in /home/jupyter/.local/lib/python3.8/site-packages (from sqlalchemy>=1.3.0->optuna==3.1.0->-r requirements.txt (line 11)) (2.0.2)\n",
      "Requirement already satisfied: cffi>=1.1.0 in /kernel/lib/python3.8/site-packages (from cairocffi->cairosvg->-r requirements.txt (line 12)) (1.15.1)\n",
      "Requirement already satisfied: webencodings in /kernel/lib/python3.8/site-packages (from cssselect2->cairosvg->-r requirements.txt (line 12)) (0.5.1)\n",
      "Requirement already satisfied: pycparser in /kernel/lib/python3.8/site-packages (from cffi>=1.1.0->cairocffi->cairosvg->-r requirements.txt (line 12)) (2.21)\n",
      "Requirement already satisfied: MarkupSafe>=0.9.2 in /kernel/lib/python3.8/site-packages (from Mako->alembic>=1.5.0->optuna==3.1.0->-r requirements.txt (line 11)) (2.1.2)\n",
      "\u001b[33mWARNING: You are using pip version 21.3.1; however, version 23.0.1 is available.\n",
      "You should consider upgrading via the '/usr/local/bin/python3 -m pip install --upgrade pip' command.\u001b[0m\n",
      "Defaulting to user installation because normal site-packages is not writeable\n",
      "Looking in indexes: https://pypi.org/simple, https://download.pytorch.org/whl/cu116\n",
      "Requirement already satisfied: torch in /usr/local/lib/python3.8/dist-packages (1.9.1+cu111)\n",
      "Requirement already satisfied: torchvision in /usr/local/lib/python3.8/dist-packages (0.10.1+cu111)\n",
      "Requirement already satisfied: torchaudio in /usr/local/lib/python3.8/dist-packages (0.9.1)\n",
      "Requirement already satisfied: typing-extensions in /home/jupyter/.local/lib/python3.8/site-packages (from torch) (4.5.0)\n",
      "Requirement already satisfied: numpy in /home/jupyter/.local/lib/python3.8/site-packages (from torchvision) (1.21.0)\n",
      "Requirement already satisfied: pillow>=5.3.0 in /kernel/lib/python3.8/site-packages (from torchvision) (9.4.0)\n",
      "\u001b[33mWARNING: You are using pip version 21.3.1; however, version 23.0.1 is available.\n",
      "You should consider upgrading via the '/usr/local/bin/python3 -m pip install --upgrade pip' command.\u001b[0m\n"
     ]
    }
   ],
   "source": [
    "#!g1.1\n",
    "%pip install -r requirements.txt\n",
    "%pip install torch torchvision torchaudio --extra-index-url https://download.pytorch.org/whl/cu116"
   ]
  },
  {
   "cell_type": "code",
   "execution_count": 1,
   "metadata": {
    "cellId": "ybnig9yi3cevfc1ni9l199",
    "collapsed": false,
    "jupyter": {
     "outputs_hidden": false
    },
    "pycharm": {
     "is_executing": true,
     "name": "#%%\n"
    }
   },
   "outputs": [],
   "source": [
    "#!g1.1\n",
    "import torch\n",
    "import torch.nn as nn\n",
    "import torch.nn.functional as F\n",
    "import numpy as np\n",
    "from torch import optim\n",
    "import random as rnd\n",
    "\n",
    "import matplotlib.pyplot as plt\n",
    "import matplotlib.image as mpimg\n",
    "from tqdm import tqdm, trange\n",
    "import os\n",
    "from utils.svg import SVG\n",
    "from pathlib import Path\n",
    "from sklearn.model_selection import train_test_split\n",
    "from sklearn import preprocessing\n",
    "import pandas as pd\n",
    "from torchsummary import summary\n",
    "import math\n",
    "import utils.dataloader as dl\n",
    "import shutil\n",
    "import optuna\n",
    "from optuna.trial import TrialState\n",
    "from cairosvg import svg2png\n",
    "\n",
    "from IPython import display\n",
    "%matplotlib inline"
   ]
  },
  {
   "cell_type": "code",
   "execution_count": 2,
   "metadata": {
    "cellId": "u0g4x4qz9mc99xk6e2h7ag",
    "pycharm": {
     "name": "#%%\n"
    }
   },
   "outputs": [
    {
     "name": "stdout",
     "output_type": "stream",
     "text": [
      "Device: cuda\n"
     ]
    }
   ],
   "source": [
    "#!g1.4\n",
    "device = \"cuda\" if torch.cuda.is_available() else \"cpu\"\n",
    "\n",
    "SVG.ENCODE_HEIGHT = 80\n",
    "# fonts_number = 100\n",
    "# fonts_number = 8000\n",
    "fonts_number = None\n",
    "\n",
    "print(f'Device: {device}')"
   ]
  },
  {
   "cell_type": "markdown",
   "metadata": {
    "cellId": "wwy96cawumda065gg8e82",
    "execution_id": "66fb3a9c-7976-40bf-9a54-e504e51cbad0",
    "pycharm": {
     "name": "#%% md\n"
    }
   },
   "source": [
    "## Загрузка данных"
   ]
  },
  {
   "cell_type": "code",
   "execution_count": 3,
   "metadata": {
    "cellId": "qkxqsrl3ba0cimpzur8hqp",
    "collapsed": false,
    "jupyter": {
     "outputs_hidden": false
    },
    "pycharm": {
     "name": "#%%\n"
    }
   },
   "outputs": [
    {
     "name": "stdout",
     "output_type": "stream",
     "text": [
      "Loading from file\n",
      "Success\n"
     ]
    },
    {
     "data": {
      "text/html": [
       "<div>\n",
       "<style scoped>\n",
       "    .dataframe tbody tr th:only-of-type {\n",
       "        vertical-align: middle;\n",
       "    }\n",
       "\n",
       "    .dataframe tbody tr th {\n",
       "        vertical-align: top;\n",
       "    }\n",
       "\n",
       "    .dataframe thead th {\n",
       "        text-align: right;\n",
       "    }\n",
       "</style>\n",
       "<table border=\"1\" class=\"dataframe\">\n",
       "  <thead>\n",
       "    <tr style=\"text-align: right;\">\n",
       "      <th></th>\n",
       "      <th>font</th>\n",
       "      <th>letter</th>\n",
       "      <th>data</th>\n",
       "    </tr>\n",
       "  </thead>\n",
       "  <tbody>\n",
       "    <tr>\n",
       "      <th>0</th>\n",
       "      <td>!crass_roots_ofl</td>\n",
       "      <td>a</td>\n",
       "      <td>[[0.0, 1.0, 0.0, 0.0, 0.0, 0.0, 0.0, 0.0, 0.0,...</td>\n",
       "    </tr>\n",
       "    <tr>\n",
       "      <th>1</th>\n",
       "      <td>!crass_roots_ofl</td>\n",
       "      <td>b</td>\n",
       "      <td>[[0.0, 1.0, 0.0, 0.0, 0.0, 0.0, 0.0, 0.0, 0.0,...</td>\n",
       "    </tr>\n",
       "    <tr>\n",
       "      <th>2</th>\n",
       "      <td>!crass_roots_ofl</td>\n",
       "      <td>c</td>\n",
       "      <td>[[0.0, 1.0, 0.0, 0.0, 0.0, 0.0, 0.0, 0.0, 0.0,...</td>\n",
       "    </tr>\n",
       "    <tr>\n",
       "      <th>3</th>\n",
       "      <td>!crass_roots_ofl</td>\n",
       "      <td>d</td>\n",
       "      <td>[[0.0, 1.0, 0.0, 0.0, 0.0, 0.0, 0.0, 0.0, 0.0,...</td>\n",
       "    </tr>\n",
       "    <tr>\n",
       "      <th>4</th>\n",
       "      <td>!crass_roots_ofl</td>\n",
       "      <td>e</td>\n",
       "      <td>[[0.0, 1.0, 0.0, 0.0, 0.0, 0.0, 0.0, 0.0, 0.0,...</td>\n",
       "    </tr>\n",
       "    <tr>\n",
       "      <th>...</th>\n",
       "      <td>...</td>\n",
       "      <td>...</td>\n",
       "      <td>...</td>\n",
       "    </tr>\n",
       "    <tr>\n",
       "      <th>337502</th>\n",
       "      <td>çarsi</td>\n",
       "      <td>v</td>\n",
       "      <td>[[0.0, 1.0, 0.0, 0.0, 0.0, 0.0, 0.0, 0.0, 0.0,...</td>\n",
       "    </tr>\n",
       "    <tr>\n",
       "      <th>337503</th>\n",
       "      <td>çarsi</td>\n",
       "      <td>w</td>\n",
       "      <td>[[0.0, 1.0, 0.0, 0.0, 0.0, 0.0, 0.0, 0.0, 0.0,...</td>\n",
       "    </tr>\n",
       "    <tr>\n",
       "      <th>337504</th>\n",
       "      <td>çarsi</td>\n",
       "      <td>x</td>\n",
       "      <td>[[0.0, 1.0, 0.0, 0.0, 0.0, 0.0, 0.0, 0.0, 0.0,...</td>\n",
       "    </tr>\n",
       "    <tr>\n",
       "      <th>337505</th>\n",
       "      <td>çarsi</td>\n",
       "      <td>y</td>\n",
       "      <td>[[0.0, 1.0, 0.0, 0.0, 0.0, 0.0, 0.0, 0.0, 0.0,...</td>\n",
       "    </tr>\n",
       "    <tr>\n",
       "      <th>337506</th>\n",
       "      <td>çarsi</td>\n",
       "      <td>z</td>\n",
       "      <td>[[0.0, 1.0, 0.0, 0.0, 0.0, 0.0, 0.0, 0.0, 0.0,...</td>\n",
       "    </tr>\n",
       "  </tbody>\n",
       "</table>\n",
       "<p>337507 rows × 3 columns</p>\n",
       "</div>"
      ],
      "text/plain": [
       "                    font  ...                                               data\n",
       "0       !crass_roots_ofl  ...  [[0.0, 1.0, 0.0, 0.0, 0.0, 0.0, 0.0, 0.0, 0.0,...\n",
       "1       !crass_roots_ofl  ...  [[0.0, 1.0, 0.0, 0.0, 0.0, 0.0, 0.0, 0.0, 0.0,...\n",
       "2       !crass_roots_ofl  ...  [[0.0, 1.0, 0.0, 0.0, 0.0, 0.0, 0.0, 0.0, 0.0,...\n",
       "3       !crass_roots_ofl  ...  [[0.0, 1.0, 0.0, 0.0, 0.0, 0.0, 0.0, 0.0, 0.0,...\n",
       "4       !crass_roots_ofl  ...  [[0.0, 1.0, 0.0, 0.0, 0.0, 0.0, 0.0, 0.0, 0.0,...\n",
       "...                  ...  ...                                                ...\n",
       "337502             çarsi  ...  [[0.0, 1.0, 0.0, 0.0, 0.0, 0.0, 0.0, 0.0, 0.0,...\n",
       "337503             çarsi  ...  [[0.0, 1.0, 0.0, 0.0, 0.0, 0.0, 0.0, 0.0, 0.0,...\n",
       "337504             çarsi  ...  [[0.0, 1.0, 0.0, 0.0, 0.0, 0.0, 0.0, 0.0, 0.0,...\n",
       "337505             çarsi  ...  [[0.0, 1.0, 0.0, 0.0, 0.0, 0.0, 0.0, 0.0, 0.0,...\n",
       "337506             çarsi  ...  [[0.0, 1.0, 0.0, 0.0, 0.0, 0.0, 0.0, 0.0, 0.0,...\n",
       "\n",
       "[337507 rows x 3 columns]"
      ]
     },
     "execution_count": 3,
     "metadata": {},
     "output_type": "execute_result"
    }
   ],
   "source": [
    "stored_path = Path(f'data/data_abs_{SVG.ENCODE_HEIGHT}_{fonts_number}.json')\n",
    "if stored_path.exists():\n",
    "    print(\"Loading from file\")\n",
    "    data = pd.read_json(str(stored_path))\n",
    "else:\n",
    "    print('Loading data')\n",
    "    dl.load_data(fonts_number)\n",
    "    print('Encoding data')\n",
    "    data = dl.get_data(fonts_number)\n",
    "    data.to_json(str(stored_path))\n",
    "print(\"Success\")\n",
    "data"
   ]
  },
  {
   "cell_type": "markdown",
   "metadata": {
    "cellId": "76h5j5npzx6zrrr4sm371d",
    "execution_id": "2817f7a0-1f74-44de-8906-d164acd8acbf",
    "pycharm": {
     "name": "#%% md\n"
    }
   },
   "source": [
    "## Определение даталоадеров\n",
    "`Dataloader` для букв\n",
    "\n",
    "`DataloaderRows` для линий"
   ]
  },
  {
   "cell_type": "code",
   "execution_count": 4,
   "metadata": {
    "cellId": "bwrlgkrs1hb3o320dl9h8u",
    "collapsed": false,
    "jupyter": {
     "outputs_hidden": false
    },
    "pycharm": {
     "name": "#%%\n"
    }
   },
   "outputs": [],
   "source": [
    "class Dataloader:\n",
    "    def __init__(self, df: pd.DataFrame, test_size=0.1, shuffle=False, batch_size=24):\n",
    "        if shuffle:\n",
    "            df = df.sample(frac=1).reset_index(drop=True)\n",
    "        xs = np.array(df['data'].to_list(), dtype=np.float32)\n",
    "        ys = df['letter'].to_numpy()\n",
    "        self.x_train, self.x_test, self.y_train, self.y_test = train_test_split(xs, ys, test_size=test_size, shuffle=shuffle)\n",
    "        self.batch_size = batch_size\n",
    "\n",
    "    def iterate(self):\n",
    "        bs = self.batch_size\n",
    "        for i in range(len(self.x_train) // bs):\n",
    "            yield self.x_train[i * bs: (i + 1) * bs], self.y_train[i * bs: (i + 1) * bs]\n",
    "\n",
    "    def iterate_test(self):\n",
    "        yield self.x_test, self.y_test\n",
    "\n",
    "    def __len__(self):\n",
    "        return len(self.x_train) // self.batch_size + int(len(self.x_train) % self.batch_size > 0)\n",
    "    \n",
    "class DataloaderRows:\n",
    "    def __init__(self, df: pd.DataFrame, test_size=0.1, shuffle=False, batch_size=24):\n",
    "        if shuffle:\n",
    "            df = df.sample(frac=1).reset_index(drop=True)\n",
    "        xs = np.array(df['data'].to_list(), dtype=np.float32)\n",
    "        xs = xs.reshape((-1, SVG.ENCODE_WIDTH))\n",
    "        self.x_train, self.x_test = train_test_split(xs, test_size=test_size, shuffle=shuffle)\n",
    "        self.batch_size = batch_size\n",
    "\n",
    "    def iterate(self):\n",
    "        bs = self.batch_size\n",
    "        for i in range(len(self.x_train) // bs):\n",
    "            yield self.x_train[i * bs: (i + 1) * bs]\n",
    "\n",
    "    def iterate_test(self):\n",
    "        yield self.x_test\n",
    "\n",
    "    def __len__(self):\n",
    "        return len(self.x_train) // self.batch_size + int(len(self.x_train) % self.batch_size > 0)\n",
    "    "
   ]
  },
  {
   "cell_type": "code",
   "execution_count": 5,
   "metadata": {
    "cellId": "vm84wvzn2anjlei72b2qh",
    "collapsed": false,
    "jupyter": {
     "outputs_hidden": false
    },
    "pycharm": {
     "name": "#%%\n"
    }
   },
   "outputs": [],
   "source": [
    "dataloader = Dataloader(data, test_size=0.15, shuffle=True)\n",
    "dataloader_rows = DataloaderRows(data, test_size=0.15, shuffle=True)"
   ]
  },
  {
   "cell_type": "code",
   "execution_count": 6,
   "metadata": {
    "cellId": "tz7onz2r4w9ekgj28fkqu",
    "collapsed": false,
    "jupyter": {
     "outputs_hidden": false
    },
    "pycharm": {
     "name": "#%%\n"
    }
   },
   "outputs": [],
   "source": [
    "def save_sampled(x: np.ndarray, name):\n",
    "    file = Path('imgs') / name\n",
    "    file.parent.mkdir(parents=True, exist_ok=True)\n",
    "    svg = SVG.decode(x, path=file)\n",
    "    svg.dump_to_file()\n",
    "    \n",
    "def show_sampled(x: np.ndarray):\n",
    "    svg = SVG.decode(x)\n",
    "    svg.mulsize(256)\n",
    "    svg2png(bytestring=svg.dump(), write_to='imgs/tmp.png')\n",
    "    img = mpimg.imread('imgs/tmp.png')\n",
    "    plt.imshow(img)"
   ]
  },
  {
   "cell_type": "code",
   "execution_count": 7,
   "metadata": {
    "cellId": "24i0dckor3sbcze9l8m8o7",
    "collapsed": false,
    "jupyter": {
     "outputs_hidden": false
    },
    "pycharm": {
     "name": "#%%\n"
    }
   },
   "outputs": [
    {
     "data": {
      "image/png": "[encoded data removed]",
      "text/plain": [
       "<Figure size 432x288 with 1 Axes>"
      ]
     },
     "metadata": {
      "needs_background": "light"
     },
     "output_type": "display_data"
    }
   ],
   "source": [
    "save_sampled(dataloader.x_test[0], 'test_print.svg')\n",
    "show_sampled(dataloader.x_test[0])"
   ]
  },
  {
   "cell_type": "markdown",
   "metadata": {
    "cellId": "aekh4v4i1880vqy4y0htav",
    "execution_id": "28b5d171-e1cc-4552-bdd5-9d84e6dbc076"
   },
   "source": [
    "## Определение рисователя прогресса"
   ]
  },
  {
   "cell_type": "code",
   "execution_count": 8,
   "metadata": {
    "cellId": "pgxmrjjewzlh0pvpb5ty5"
   },
   "outputs": [],
   "source": [
    "from typing import Optional"
   ]
  },
  {
   "cell_type": "code",
   "execution_count": 9,
   "metadata": {
    "cellId": "kwpjjv9ypsowli7k2ocdf"
   },
   "outputs": [],
   "source": [
    "train_ts, train_loss = [], []\n",
    "test_ts, test_loss = [], []\n",
    "interval = len(dataloader) / 6\n",
    "\n",
    "def show_progress(t, epochs, save_to=None, info: Optional[dict] = None):\n",
    "    display.clear_output(wait=True)\n",
    "    fig, (ax1, ax2) = plt.subplots(2, 1, constrained_layout=True, figsize=(12, 10))\n",
    "    fig.suptitle(f'Epoch {t:3.3f} / {epochs}', fontsize=16)\n",
    "    \n",
    "    last_size = 0.5\n",
    "    \n",
    "    for ax, msg in zip((ax1, ax2), ('', f'last {int(last_size*100)}%')):\n",
    "        title = f'loss {msg}'\n",
    "        if info is not None:\n",
    "            title += ' | ' + ' | '.join(f'{key}: {value}' for key, value in info.items())\n",
    "        ax.set_title(title)\n",
    "        ax.set_xlabel('time (epochs)')\n",
    "        ax.set_ylabel('loss')\n",
    "    last_train = str(train_loss[-1]) if len(train_loss) > 0 else ''\n",
    "    last_test = str(test_loss[-1]) if len(test_loss) > 0 else ''\n",
    "    \n",
    "    ax1.plot(train_ts, train_loss, c='darkblue', lw=3, label=f'train: {last_train}')\n",
    "    ax1.plot(test_ts, test_loss, c='green', marker='o', lw=5, label=f'test: {last_test}')\n",
    "    \n",
    "    ax2.plot(train_ts[-int(len(train_ts)*last_size):], train_loss[-int(len(train_loss)*last_size):], c='darkblue', lw=3, label=f'train: {last_train}')\n",
    "    ax2.plot(test_ts[-int(len(test_ts)*last_size):], test_loss[-int(len(test_loss)*last_size):], c='green', marker='o', lw=5, label=f'test: {last_test}')\n",
    "    \n",
    "    ax1.legend()\n",
    "    ax2.legend()\n",
    "    if save_to is None:\n",
    "        plt.show() \n",
    "    else:\n",
    "        plt.savefig(save_to)\n",
    "        plt.show()\n",
    "        plt.close()\n"
   ]
  },
  {
   "cell_type": "markdown",
   "metadata": {
    "cellId": "ox840kgp7its9w51kboj",
    "execution_id": "2933ce8a-d0a8-4443-986f-f1fd49e2a6c2",
    "pycharm": {
     "name": "#%% md\n"
    }
   },
   "source": [
    "## Определение моделей"
   ]
  },
  {
   "cell_type": "markdown",
   "metadata": {
    "cellId": "ok85w5y4fywpwbdyqzjb",
    "execution_id": "4ed99971-f8cf-404c-84c1-c41ca35134c9"
   },
   "source": [
    "### Вспомогательные модули"
   ]
  },
  {
   "cell_type": "code",
   "execution_count": 10,
   "metadata": {
    "cellId": "pefymvdeuiaf719fbiu0eb",
    "pycharm": {
     "name": "#%%\n"
    }
   },
   "outputs": [],
   "source": [
    "class BnAndDropout(nn.Module):\n",
    "    def __init__(self, features, p=0.15):\n",
    "        super().__init__()\n",
    "        self.bn = nn.BatchNorm1d(num_features=features)\n",
    "        self.do = nn.Dropout(p)\n",
    "    \n",
    "    def forward(self, x):\n",
    "        return self.do(self.bn(x))\n",
    "\n",
    "\n",
    "class Block(nn.Module):\n",
    "    def __init__(self, f_in, f_out):\n",
    "        super().__init__()\n",
    "        self.layer = nn.Sequential(\n",
    "            nn.Linear(f_in, f_out),\n",
    "            nn.Tanh(),\n",
    "            # BnAndDropout(f_out),\n",
    "        )\n",
    "\n",
    "    def forward(self, x):\n",
    "        return self.layer(x)\n",
    "\n",
    "\n",
    "class TimeBlock(nn.Module):\n",
    "    def __init__(self, f_in, f_out, time_emb_dim):\n",
    "        super().__init__()\n",
    "        self.time_mlp = nn.Sequential(\n",
    "            nn.Linear(time_emb_dim, time_emb_dim),\n",
    "            nn.ReLU(),\n",
    "        )\n",
    "        self.layer = nn.Sequential(\n",
    "            nn.Linear(f_in + time_emb_dim, f_out),\n",
    "            nn.Tanh(),\n",
    "            # BnAndDropout(f_out),\n",
    "        )\n",
    "\n",
    "    def forward(self, x, t):\n",
    "        t = self.time_mlp(t)\n",
    "        x = torch.cat((x, t), dim=1)\n",
    "        return self.layer(x)\n",
    "\n",
    "\n",
    "class SinusoidalPositionEmbeddings(nn.Module):\n",
    "    def __init__(self, dim):\n",
    "        super().__init__()\n",
    "        self.dim = dim\n",
    "\n",
    "    def forward(self, time):\n",
    "        device = time.device\n",
    "        half_dim = self.dim // 2\n",
    "        embeddings = math.log(10000) / (half_dim - 1)\n",
    "        embeddings = torch.exp(torch.arange(half_dim, device=device) * -embeddings)\n",
    "        embeddings = time[:, None] * embeddings[None, :]\n",
    "        embeddings = torch.cat((embeddings.sin(), embeddings.cos()), dim=-1)\n",
    "        # TODO: Double check the ordering here\n",
    "        return embeddings\n"
   ]
  },
  {
   "cell_type": "markdown",
   "metadata": {
    "cellId": "oebox8oc13k5l3mxy0ma",
    "execution_id": "ee7be977-0722-4611-b6d6-7266fb2186ac"
   },
   "source": [
    "### Простой автоэнкодер для строк"
   ]
  },
  {
   "cell_type": "code",
   "execution_count": 11,
   "metadata": {
    "cellId": "ofnniersxbp6y6evp5601o",
    "pycharm": {
     "name": "#%%\n"
    },
    "tags": []
   },
   "outputs": [],
   "source": [
    "class AE(nn.Module):\n",
    "    def __init__(self, params):\n",
    "        super().__init__()\n",
    "        \n",
    "        self.encode = True\n",
    "        self.decode = True\n",
    "        \n",
    "        self.inp_size = params[0]\n",
    "        self.out_size = params[-1]\n",
    "\n",
    "        self.encoder = []\n",
    "        for i in range(len(params) - 1):\n",
    "            self.encoder.append(Block(params[i], params[i + 1]))\n",
    "        \n",
    "        self.decoder = []\n",
    "        for i in range(len(params) - 1, 0, -1):\n",
    "            self.decoder.append(Block(params[i], params[i - 1]))\n",
    "        \n",
    "        self.encoder = nn.Sequential(*self.encoder)\n",
    "        self.decoder = nn.Sequential(*self.decoder)\n",
    "        \n",
    "    def forward(self, x):\n",
    "        if self.encode:\n",
    "            x = self.encoder(x)\n",
    "        if self.decode:\n",
    "            x = self.decoder(x)\n",
    "        return x\n",
    "\n",
    "    def loss(self):\n",
    "        def _inner(y_hat, y):\n",
    "            return ((y - y_hat)**2).mean(axis=0).sum()\n",
    "\n",
    "        return _inner\n",
    "\n",
    "    def train_fn(self, epoch, epochs, dataloader, loss_fn, optimizer, scheduler, pbar=None, show=True):\n",
    "        self.train()\n",
    "        num_batches = len(dataloader)\n",
    "        for batch, inp_data in enumerate(dataloader.iterate()):\n",
    "            inp_data = torch.Tensor(inp_data).to(device)\n",
    "\n",
    "            output = self(inp_data)\n",
    "            loss = loss_fn(output, inp_data)\n",
    "\n",
    "            optimizer.zero_grad()\n",
    "            loss.backward()\n",
    "            optimizer.step()\n",
    "\n",
    "            if batch % interval == 0:\n",
    "                t = epoch + (batch + 1) / num_batches\n",
    "                train_ts.append(t)\n",
    "                train_loss.append(loss.item())\n",
    "                if show:                \n",
    "                    show_progress(t, epochs, info={'lr': scheduler.get_last_lr()[0]})\n",
    "                if pbar is not None:\n",
    "                    pbar.refresh()\n",
    "        scheduler.step()\n",
    "\n",
    "    @torch.no_grad()\n",
    "    def test_fn(self, epoch, epochs, dataloader, loss_fn, show=True):\n",
    "        self.eval()\n",
    "        num_batches = len(dataloader)\n",
    "        tmp_test_loss = []\n",
    "        for images in dataloader.iterate_test():\n",
    "            images = torch.Tensor(images).to(device)\n",
    "\n",
    "            decoded = self(images)\n",
    "            loss = loss_fn(decoded, images)\n",
    "\n",
    "            tmp_test_loss.append(loss.item())\n",
    "\n",
    "        test_ts.append(epoch)\n",
    "        test_loss.append(np.mean(tmp_test_loss))\n",
    "        if show:\n",
    "            show_progress(epoch, epochs)"
   ]
  },
  {
   "cell_type": "markdown",
   "metadata": {
    "cellId": "0juesw4neikpu9r38xoyl2",
    "execution_id": "300bd38e-b9c2-4903-b90c-3535d5b44d2f"
   },
   "source": [
    "### Автоэнкодер с условием\n",
    "и кодированием каждой линии предыдущей моделью"
   ]
  },
  {
   "cell_type": "code",
   "execution_count": 23,
   "metadata": {
    "cellId": "bgmd0axezmnp732u72yazi"
   },
   "outputs": [],
   "source": [
    "class CAE(nn.Module):\n",
    "    def __init__(self, params, in_labels, line_size):\n",
    "        super().__init__()\n",
    "        self.line_size = line_size\n",
    "        \n",
    "        self.encode = True\n",
    "        self.decode = True\n",
    "        \n",
    "        encoder_params = params[:]\n",
    "        encoder_params[0] += in_labels\n",
    "        \n",
    "        decoder_params = params[::-1]\n",
    "        decoder_params[0] += in_labels\n",
    "\n",
    "        self.encoder = []\n",
    "        for i in range(len(encoder_params) - 1):\n",
    "            self.encoder.append(Block(encoder_params[i], encoder_params[i + 1]))\n",
    "\n",
    "        self.decoder = []\n",
    "        for i in range(len(decoder_params) - 1):\n",
    "            self.decoder.append(Block(decoder_params[i], decoder_params[i + 1]))\n",
    "        \n",
    "        self.encoder = nn.Sequential(*self.encoder)\n",
    "        self.decoder = nn.Sequential(*self.decoder)\n",
    "        \n",
    "    def forward(self, x, labels):\n",
    "        bs = x.shape[0]\n",
    "        if self.encode:\n",
    "            x = x.view(bs, -1)\n",
    "            x = torch.cat((x, labels), 1)\n",
    "            x = self.encoder(x)\n",
    "        if self.decode:\n",
    "            x = torch.cat((x, labels), 1)\n",
    "            x = self.decoder(x)\n",
    "            x = x.view(bs, -1, self.line_size)\n",
    "        return x\n",
    "    \n",
    "    def loss(self):\n",
    "        def _inner(y_hat, y):\n",
    "            return ((y - y_hat)**2).mean(axis=0).sum()\n",
    "\n",
    "        return _inner\n",
    "    \n",
    "    def train_fn(self, epoch, epochs, dataloader, loss_fn, optimizer, scheduler, pbar=None, show=True):\n",
    "        self.train()\n",
    "        num_batches = len(dataloader)\n",
    "        for batch, (inp_data, labels) in enumerate(dataloader.iterate()):\n",
    "            inp_data = torch.Tensor(inp_data).to(device)\n",
    "            labels = labels2one_hot(labels).to(device)\n",
    "\n",
    "            output = self(inp_data, labels)\n",
    "            loss = loss_fn(output, inp_data)\n",
    "\n",
    "            optimizer.zero_grad()\n",
    "            loss.backward()\n",
    "            optimizer.step()\n",
    "\n",
    "            if batch % interval == 0:\n",
    "                t = epoch + (batch + 1) / num_batches\n",
    "                train_ts.append(t)\n",
    "                train_loss.append(loss.item())\n",
    "                if show:                \n",
    "                    show_progress(t, epochs, info={'lr': scheduler.get_last_lr()[0]})\n",
    "                if pbar is not None:\n",
    "                    pbar.refresh()\n",
    "        scheduler.step()        \n",
    "\n",
    "    @torch.no_grad()\n",
    "    def test_fn(self, epoch, epochs, dataloader, loss_fn, show=True):\n",
    "        self.eval()\n",
    "        tmp_test_loss = []\n",
    "        for inp_data, labels in dataloader.iterate_test():\n",
    "            inp_data = torch.Tensor(inp_data).to(device)\n",
    "            labels = labels2one_hot(labels).to(device)\n",
    "\n",
    "            result = self(inp_data, labels)\n",
    "            loss = loss_fn(result, inp_data)\n",
    "\n",
    "            tmp_test_loss.append(loss.item())\n",
    "\n",
    "        test_ts.append(epoch)\n",
    "        test_loss.append(np.mean(tmp_test_loss))\n",
    "        if show:\n",
    "            show_progress(epoch, epochs)"
   ]
  },
  {
   "cell_type": "markdown",
   "metadata": {
    "cellId": "lsffr2whatjkncg88yxga",
    "execution_id": "9bf7c4fc-79bf-4027-af48-e7dd7ec829d8"
   },
   "source": [
    "## Автоэнкодер с условием и skip connection\n",
    "Ядро дифузионной модели"
   ]
  },
  {
   "cell_type": "code",
   "execution_count": 24,
   "metadata": {
    "cellId": "lile1tqj6bj94vefp7d2",
    "pycharm": {
     "name": "#%%\n"
    },
    "tags": []
   },
   "outputs": [],
   "source": [
    "class UCAE(nn.Module):\n",
    "    def __init__(self, params, in_labels, time_emb_dim=32):\n",
    "        super().__init__()\n",
    "        \n",
    "        encoder_params = params[:]\n",
    "        encoder_params[0] += in_labels\n",
    "        \n",
    "        decoder_params = params[::-1]\n",
    "        decoder_params[0] += in_labels\n",
    "\n",
    "        self.encoder = []\n",
    "        for i in range(len(encoder_params) - 1):\n",
    "            self.encoder.append(TimeBlock(encoder_params[i], encoder_params[i + 1], time_emb_dim))\n",
    "\n",
    "        self.decoder = []\n",
    "        self.decoder.append(TimeBlock(decoder_params[0], decoder_params[1], time_emb_dim))\n",
    "        for i in range(1, len(decoder_params) - 1):\n",
    "            self.decoder.append(TimeBlock(decoder_params[i] * 2, decoder_params[i + 1], time_emb_dim))\n",
    "        \n",
    "        self.encoder = nn.ModuleList(self.encoder)\n",
    "        self.decoder = nn.ModuleList(self.decoder)\n",
    "        \n",
    "        self.time_mlp = nn.Sequential(\n",
    "            SinusoidalPositionEmbeddings(time_emb_dim),\n",
    "            nn.Linear(time_emb_dim, time_emb_dim),\n",
    "            nn.ReLU(),\n",
    "        )\n",
    "        \n",
    "    def forward(self, x, labels, timestep):\n",
    "        shape = x.shape\n",
    "        t = self.time_mlp(timestep)\n",
    "        x = x.view(shape[0], -1)\n",
    "        x = torch.cat((x, labels), 1)\n",
    "        accumulate = []\n",
    "        for layer in self.encoder:\n",
    "            x = layer(x, t)\n",
    "            accumulate.append(x)\n",
    "        accumulate.pop()\n",
    "        \n",
    "        x = torch.cat((x, labels), 1)\n",
    "        x = self.decoder[0](x, t)\n",
    "        \n",
    "        for layer in self.decoder[1:]:\n",
    "            connection = accumulate.pop()\n",
    "            x = torch.cat((x, connection), 1)\n",
    "            x = layer(x, t)\n",
    "        x = x.view(shape[0], shape[1], -1)\n",
    "        \n",
    "        return x\n",
    "    \n",
    "    def loss(self):\n",
    "        def _inner(y_hat, y):\n",
    "            return ((y - y_hat)**2).mean(axis=0).sum()\n",
    "\n",
    "        return _inner\n",
    "    \n",
    "    def train_fn(self, epoch, epochs, dataloader, loss_fn, optimizer, scheduler, pbar=None, show=True):\n",
    "        self.train()\n",
    "        num_batches = len(dataloader)\n",
    "        for batch, (inp_data, labels) in enumerate(dataloader.iterate()):\n",
    "            inp_data = torch.Tensor(inp_data).to(device)\n",
    "            labels = labels2one_hot(labels).to(device)\n",
    "            t = torch.zeros([len(labels)]).to(device)\n",
    "\n",
    "            output = self(inp_data, labels, t)\n",
    "            loss = loss_fn(output, inp_data)\n",
    "\n",
    "            optimizer.zero_grad()\n",
    "            loss.backward()\n",
    "            optimizer.step()\n",
    "\n",
    "            if batch % interval == 0:\n",
    "                t = epoch + (batch + 1) / num_batches\n",
    "                train_ts.append(t)\n",
    "                train_loss.append(loss.item())\n",
    "                if show:                \n",
    "                    show_progress(t, epochs, info={'lr': scheduler.get_last_lr()[0]})\n",
    "                if pbar is not None:\n",
    "                    pbar.refresh()\n",
    "        scheduler.step()        \n",
    "\n",
    "    @torch.no_grad()\n",
    "    def test_fn(self, epoch, epochs, dataloader, loss_fn, show=True):\n",
    "        self.eval()\n",
    "        tmp_test_loss = []\n",
    "        for inp_data, labels in dataloader.iterate_test():\n",
    "            inp_data = torch.Tensor(inp_data).to(device)\n",
    "            labels = labels2one_hot(labels).to(device)\n",
    "            t = torch.zeros([len(labels)], dtype=torch.int64).to(device)\n",
    "\n",
    "            result = self(inp_data, labels, t)\n",
    "            loss = loss_fn(result, inp_data)\n",
    "\n",
    "            tmp_test_loss.append(loss.item())\n",
    "\n",
    "        test_ts.append(epoch)\n",
    "        test_loss.append(np.mean(tmp_test_loss))\n",
    "        if show:\n",
    "            show_progress(epoch, epochs)"
   ]
  },
  {
   "cell_type": "markdown",
   "metadata": {
    "cellId": "z1nm6hpeps3j348xd5knz",
    "execution_id": "fe3b853c-3b9c-4b8f-9591-f022f75551e4",
    "pycharm": {
     "name": "#%% md\n"
    }
   },
   "source": [
    "## Вспомогательные функции"
   ]
  },
  {
   "cell_type": "code",
   "execution_count": 25,
   "metadata": {
    "cellId": "48j6rdbw3jr9aowhd8d15p",
    "pycharm": {
     "name": "#%%\n"
    },
    "tags": []
   },
   "outputs": [],
   "source": [
    "ONE_HOT_LEN = len(dl.GLYPH_FILTER)\n",
    "one_hot_rules = {\n",
    "    glyph: one_hot\n",
    "    for glyph, one_hot in zip(\n",
    "        dl.GLYPH_FILTER, \n",
    "        range(0, ONE_HOT_LEN),\n",
    "    )\n",
    "}\n",
    "\n",
    "def labels2num(labels):\n",
    "    return torch.Tensor([one_hot_rules[i] for i in labels]).long()\n",
    "\n",
    "def labels2one_hot(labels):\n",
    "    return F.one_hot(labels2num(labels), num_classes=ONE_HOT_LEN)"
   ]
  },
  {
   "cell_type": "code",
   "execution_count": 26,
   "metadata": {
    "cellId": "0vf4ebq0xnyld45zlk34xoq",
    "pycharm": {
     "name": "#%%\n"
    },
    "tags": []
   },
   "outputs": [],
   "source": [
    "epoch = 0\n",
    "\n",
    "def run(model, dataloader, optimizer, scheduler, epochs, params, batch_size, _epoch=0, run_name=None, trial=None):\n",
    "    global epoch\n",
    "\n",
    "    class_name = model.__class__.__name__\n",
    "    if run_name is None:\n",
    "        run_name = f'{class_name}_{SVG.ENCODE_HEIGHT}_{\",\".join(map(str, params))}'\n",
    "\n",
    "    save_folder = Path('models') / class_name / run_name\n",
    "    loss_img_path = str(save_folder / '_loss.png')\n",
    "    save_folder.mkdir(parents=True, exist_ok=True)\n",
    "    plt.clf()\n",
    "    file_format = 'svg'\n",
    "    max_epoch = epoch + epochs\n",
    "    loss_fn = model.loss()\n",
    "    dataloader.batch_size = batch_size\n",
    "\n",
    "    if trial is None:\n",
    "        pbar = trange(epoch, max_epoch)\n",
    "        rng = pbar\n",
    "    else:\n",
    "        pbar = None\n",
    "        rng = range(epoch, max_epoch)\n",
    "    for _epoch in rng:\n",
    "        model.train_fn(_epoch, max_epoch, dataloader, loss_fn, optimizer, scheduler, pbar, show=True)\n",
    "        model.test_fn(_epoch + 1, max_epoch, dataloader, loss_fn, show=True)\n",
    "\n",
    "        torch.save(model.state_dict(), save_folder / 'ckpt.pt')\n",
    "\n",
    "        if trial is not None:\n",
    "            if trial.should_prune():\n",
    "                raise optuna.exceptions.TrialPruned()\n",
    "        else:\n",
    "            epoch = _epoch + 1\n",
    "        show_progress(_epoch + 1, max_epoch, loss_img_path, info={'params':params, 'lr': scheduler.get_last_lr()[0]})\n",
    "    "
   ]
  },
  {
   "cell_type": "code",
   "execution_count": 30,
   "metadata": {
    "cellId": "hn0fg0djygmx2zy71qxvj",
    "pycharm": {
     "name": "#%%\n"
    },
    "tags": []
   },
   "outputs": [],
   "source": [
    "def setup_maker(model_type):\n",
    "    def _inner(params, lr, weight_decay=2e-5, step_size=1, step_gamma=0.95, line_size=None):\n",
    "        global train_ts, train_loss, test_ts, test_loss, epoch\n",
    "\n",
    "        if model_type == 'cae':\n",
    "            if line_size is None:\n",
    "                raise Exception('line_size should be provided')\n",
    "            model = CAE(params, ONE_HOT_LEN, line_size).to(device)\n",
    "        elif model_type == 'ucae':\n",
    "            model = UCAE(params, ONE_HOT_LEN).to(device)\n",
    "        elif model_type == 'ae':\n",
    "            model = AE(params).to(device)\n",
    "        else:\n",
    "            raise Exception('Unexpected model type')\n",
    "\n",
    "        optimizer = optim.Adam(model.parameters(), lr=lr, weight_decay=weight_decay)\n",
    "        scheduler = torch.optim.lr_scheduler.StepLR(optimizer, step_size=step_size, gamma=step_gamma)\n",
    "\n",
    "        train_ts, train_loss = [], []\n",
    "        test_ts, test_loss = [], []\n",
    "        epoch = 0\n",
    "\n",
    "        return model, optimizer, scheduler\n",
    "\n",
    "    return _inner\n",
    "    \n",
    "setup_ae = setup_maker('ae')\n",
    "setup_cae = setup_maker('cae')\n",
    "setup_ucae = setup_maker('ucae')"
   ]
  },
  {
   "cell_type": "markdown",
   "metadata": {
    "cellId": "ahb6n4acybs3cxvze3kpcr",
    "execution_id": "e9e3adb2-bd6e-451d-8aeb-d585fc291c8f",
    "pycharm": {
     "name": "#%% md\n"
    },
    "tags": []
   },
   "source": [
    "## Поиск конфигурации модели для кодирования глифов"
   ]
  },
  {
   "cell_type": "code",
   "execution_count": 28,
   "metadata": {
    "cellId": "4mg5v0plig7vkxa916szr"
   },
   "outputs": [
    {
     "data": {
      "image/png": "[encoded data removed]",
      "text/plain": [
       "<Figure size 864x720 with 2 Axes>"
      ]
     },
     "metadata": {
      "needs_background": "light"
     },
     "output_type": "display_data"
    },
    {
     "name": "stdout",
     "output_type": "stream",
     "text": [
      "\u001b[32m[I 2023-03-04 22:28:43,680]\u001b[0m Trial 44 finished with value: 5.091587066650391 and parameters: {'z': 409, 'p0': 2666, 'lr': 0.00040271634905218804, 'p1': 2340, 'p2': 482, 'p3': 419, 'p4': 410, 'p5': 409}. Best is trial 40 with value: 2.121870994567871.\u001b[0m\n"
     ]
    }
   ],
   "source": [
    "#!g1.4\n",
    "def run_for_search(trial):\n",
    "    latent_size = trial.suggest_int('z', 400, 1000)\n",
    "    params = [SVG.ENCODE_HEIGHT * SVG.ENCODE_WIDTH, trial.suggest_int('p0', 2000, 3500)]\n",
    "    lr = trial.suggest_float('lr', 1e-5, 1e-3, log=True)\n",
    "    for i in range(1, 6):\n",
    "        params.append(trial.suggest_int(f'p{i}', latent_size, params[-1]))\n",
    "    params.append(latent_size)\n",
    "    \n",
    "    model, optimizer, scheduler = setup_cae(\n",
    "        params=params,\n",
    "        lr=lr,\n",
    "        weight_decay=6e-6,\n",
    "        line_size=SVG.ENCODE_WIDTH,\n",
    "    )\n",
    "    run(\n",
    "        model=model, \n",
    "        dataloader=dataloader, \n",
    "        optimizer=optimizer,\n",
    "        scheduler=scheduler,\n",
    "        epochs=12,\n",
    "        params=params,\n",
    "        batch_size=256,\n",
    "        run_name='temp',\n",
    "        trial=trial,\n",
    "    )\n",
    "    return test_loss[-1]\n",
    "\n",
    "\n",
    "study = optuna.create_study(\n",
    "    direction=\"minimize\",\n",
    "    storage=\"sqlite:///db.sqlite3\",\n",
    "    study_name=\"cae_abs_search_lr_7_layers_12_epoch\",\n",
    "    load_if_exists=True,\n",
    ")\n",
    "\n",
    "study.optimize(run_for_search, n_trials=40, show_progress_bar=True)"
   ]
  },
  {
   "cell_type": "code",
   "execution_count": 35,
   "metadata": {
    "cellId": "1q2jxj2p32f16kmkc7j8x6"
   },
   "outputs": [],
   "source": [
    "#!g1.4\n",
    "GLIPH_WIDTH = 410\n",
    "params = [SVG.ENCODE_HEIGHT * SVG.ENCODE_WIDTH, 2666, 2340, 500, 420, 410, GLIPH_WIDTH]\n",
    "model_cae, optimizer, scheduler = setup_cae(\n",
    "    params=params,\n",
    "    lr=4e-4,\n",
    "    weight_decay=6e-6,\n",
    "    line_size=SVG.ENCODE_WIDTH,\n",
    "    step_size=3,\n",
    "    step_gamma=0.96,\n",
    ")"
   ]
  },
  {
   "cell_type": "code",
   "execution_count": 39,
   "metadata": {
    "cellId": "0zf9fvdwik5h5j0q10rjryb"
   },
   "outputs": [
    {
     "data": {
      "image/png": "[encoded data removed]",
      "text/plain": [
       "<Figure size 864x720 with 2 Axes>"
      ]
     },
     "metadata": {
      "needs_background": "light"
     },
     "output_type": "display_data"
    },
    {
     "name": "stderr",
     "output_type": "stream",
     "text": [
      "100%|██████████| 100/100 [15:07<00:00,  9.08s/it]\n"
     ]
    }
   ],
   "source": [
    "#!g1.4\n",
    "run(\n",
    "    model=model_cae,\n",
    "    dataloader=dataloader,\n",
    "    optimizer=optimizer,\n",
    "    scheduler=scheduler,\n",
    "    epochs=100,\n",
    "    params=params,\n",
    "    batch_size=512,\n",
    ")"
   ]
  },
  {
   "cell_type": "markdown",
   "metadata": {
    "cellId": "5fs8ha5ei6ponfpjkr1s3a",
    "execution_id": "cbc8b3be-5d8a-4145-b682-bc8ddd97e38c",
    "pycharm": {
     "name": "#%%\n"
    }
   },
   "source": [
    "## Дифузионная модель"
   ]
  },
  {
   "cell_type": "code",
   "execution_count": 30,
   "metadata": {
    "cellId": "aqb0mn3g3y8d81s03ddazh"
   },
   "outputs": [],
   "source": [
    "#!g1.4\n",
    "class Diffusion:\n",
    "    def __init__(self, model):\n",
    "        self.T = 300\n",
    "        self.betas = self.linear_beta_schedule(timesteps=self.T)\n",
    "\n",
    "        # Pre-calculate different terms for closed form\n",
    "        self.alphas = 1. - self.betas\n",
    "        self.alphas_cumprod = torch.cumprod(self.alphas, axis=0)\n",
    "        self.alphas_cumprod_prev = F.pad(self.alphas_cumprod[:-1], (1, 0), value=1.0)\n",
    "        self.sqrt_recip_alphas = torch.sqrt(1.0 / self.alphas)\n",
    "        self.sqrt_alphas_cumprod = torch.sqrt(self.alphas_cumprod)\n",
    "        self.sqrt_one_minus_alphas_cumprod = torch.sqrt(1. - self.alphas_cumprod)\n",
    "        self.posterior_variance = self.betas * (1. - self.alphas_cumprod_prev) / (1. - self.alphas_cumprod)\n",
    "        \n",
    "        self.model = model\n",
    "    \n",
    "    @staticmethod\n",
    "    def linear_beta_schedule(timesteps, start=0.0001, end=0.02):\n",
    "        return torch.linspace(start, end, timesteps)\n",
    "\n",
    "    @staticmethod\n",
    "    def get_index_from_list(vals, t, x_shape):\n",
    "        \"\"\" \n",
    "        Returns a specific index t of a passed list of values vals\n",
    "        while considering the batch dimension.\n",
    "        \"\"\"\n",
    "        batch_size = t.shape[0]\n",
    "        out = vals.gather(-1, t.cpu())\n",
    "        return out.reshape(batch_size, *((1,) * (len(x_shape) - 1))).to(t.device)\n",
    "\n",
    "    def forward_diffusion_sample(self, x_0, t):\n",
    "        \"\"\" \n",
    "        Takes an image and a timestep as input and \n",
    "        returns the noisy version of it\n",
    "        \"\"\"\n",
    "        noise = torch.randn_like(x_0).to(device)\n",
    "        sqrt_alphas_cumprod_t = self.get_index_from_list(self.sqrt_alphas_cumprod, t, x_0.shape)\n",
    "        sqrt_one_minus_alphas_cumprod_t = self.get_index_from_list(\n",
    "            self.sqrt_one_minus_alphas_cumprod, t, x_0.shape\n",
    "        )\n",
    "        # mean + variance\n",
    "        return sqrt_alphas_cumprod_t * x_0.to(device) + sqrt_one_minus_alphas_cumprod_t * noise, noise\n",
    "\n",
    "    def get_loss(self, x_0, labels, t):\n",
    "        x_noisy, noise = self.forward_diffusion_sample(x_0, t)\n",
    "        noise_pred = self.model(x_noisy, labels, t)\n",
    "        return F.l1_loss(noise, noise_pred)\n",
    "\n",
    "    @torch.no_grad()\n",
    "    def sample_timestep(self, x, labels, t):\n",
    "        \"\"\"\n",
    "        Calls the model to predict the noise in the image and returns \n",
    "        the denoised image. \n",
    "        Applies noise to this image, if we are not in the last step yet.\n",
    "        \"\"\"\n",
    "        betas_t = self.get_index_from_list(self.betas, t, x.shape)\n",
    "        sqrt_one_minus_alphas_cumprod_t = self.get_index_from_list(\n",
    "            self.sqrt_one_minus_alphas_cumprod, t, x.shape\n",
    "        )\n",
    "        sqrt_recip_alphas_t = self.get_index_from_list(self.sqrt_recip_alphas, t, x.shape)\n",
    "\n",
    "        # Call model (current image - noise prediction)\n",
    "        model_mean = sqrt_recip_alphas_t * (\n",
    "            x - betas_t * self.model(x, labels, t) / sqrt_one_minus_alphas_cumprod_t\n",
    "        )\n",
    "        posterior_variance_t = self.get_index_from_list(self.posterior_variance, t, x.shape)\n",
    "\n",
    "        if t == 0:\n",
    "            return model_mean\n",
    "        else:\n",
    "            noise = torch.randn_like(x)\n",
    "            return model_mean + torch.sqrt(posterior_variance_t) * noise \n",
    "\n",
    "    @torch.no_grad()\n",
    "    def sample_plot_image(self):\n",
    "        # Sample noise\n",
    "        img = torch.randn((1, GLIPH_WIDTH), device=device)\n",
    "        label_ind = rnd.randrange(ONE_HOT_LEN)\n",
    "        label = torch.zeros((1, ONE_HOT_LEN), dtype=torch.float32, device=device)\n",
    "        label[0, label_ind] = 1\n",
    "        plt.figure(figsize=(15,15))\n",
    "        plt.axis('off')\n",
    "        num_images = 10\n",
    "        stepsize = int(self.T / num_images)\n",
    "\n",
    "        for i in range(0, self.T)[::-1]:\n",
    "            t = torch.full((1,), i, device=device, dtype=torch.int64)\n",
    "            img = self.sample_timestep(img, label, t)\n",
    "            if i % stepsize == 0:\n",
    "                plt.subplot(1, num_images, i // stepsize + 1)\n",
    "                show_sampled(decode_img(img[0]))\n",
    "        plt.show()\n",
    "    \n",
    "    def train_fn(self, epoch, epochs, dataloader, loss_fn, optimizer, scheduler, pbar=None, show=True):\n",
    "        self.model.train()\n",
    "        num_batches = len(dataloader)\n",
    "        for batch, (inp_data, labels) in enumerate(dataloader.iterate()):\n",
    "            inp_data = torch.Tensor(inp_data).to(device)\n",
    "            labels = labels2one_hot(labels).to(device)\n",
    "            t = torch.randint(0, self.T, [len(labels)], device=device).long()\n",
    "            \n",
    "            optimizer.zero_grad()\n",
    "\n",
    "            loss = self.get_loss(inp_data, labels, t)\n",
    "            loss.backward()\n",
    "            optimizer.step()\n",
    "\n",
    "            if batch % interval == 0:\n",
    "                t = epoch + (batch + 1) / num_batches\n",
    "                train_ts.append(t)\n",
    "                train_loss.append(loss.item())\n",
    "                if show:                \n",
    "                    show_progress(t, epochs, info={'lr': scheduler.get_last_lr()[0]})\n",
    "                if pbar is not None:\n",
    "                    pbar.refresh()\n",
    "        scheduler.step()        \n",
    "\n",
    "    @torch.no_grad()\n",
    "    def test_fn(self, epoch, epochs, dataloader, loss_fn, show=True):\n",
    "        self.model.eval()\n",
    "        tmp_test_loss = []\n",
    "        for inp_data, labels in dataloader.iterate_test():\n",
    "            inp_data = torch.Tensor(inp_data).to(device)\n",
    "            labels = labels2one_hot(labels).to(device)\n",
    "            t = torch.randint(0, self.T, [len(labels)], device=device).long()\n",
    "            \n",
    "            loss = self.get_loss(inp_data, labels, t)\n",
    "            tmp_test_loss.append(loss.item())\n",
    "\n",
    "        test_ts.append(epoch)\n",
    "        test_loss.append(np.mean(tmp_test_loss))\n",
    "        if show:\n",
    "            # show_progress(epoch, epochs)\n",
    "            self.sample_plot_image()\n",
    "            \n",
    "    def loss(self):\n",
    "        return None\n",
    "    \n",
    "    def state_dict(self):\n",
    "        return self.model.state_dict()"
   ]
  },
  {
   "cell_type": "code",
   "execution_count": 31,
   "metadata": {
    "cellId": "8bzn4wc7mvrp2bs4iws6c9",
    "tags": []
   },
   "outputs": [
    {
     "name": "stderr",
     "output_type": "stream",
     "text": [
      "<ipython-input-3-4455e7dbcb7d>:15: MatplotlibDeprecationWarning: Auto-removal of overlapping axes is deprecated since 3.6 and will be removed two minor releases later; explicitly call ax.remove() as needed.\n",
      "  plt.subplot(1, num_images + 1, (idx // stepsize) + 1)\n"
     ]
    },
    {
     "data": {
      "image/png": "[encoded data removed]",
      "text/plain": [
       "<Figure size 1800x1440 with 10 Axes>"
      ]
     },
     "metadata": {
      "needs_background": "light"
     },
     "output_type": "display_data"
    }
   ],
   "source": [
    "#!g1.4\n",
    "diffusion = Diffusion(None)\n",
    "\n",
    "image = torch.Tensor(enc_dataloader.x_test[1]).to(device)\n",
    "\n",
    "plt.figure(figsize=(25, 20))\n",
    "plt.axis('off')\n",
    "num_images = 10\n",
    "\n",
    "# stepsize = diffusion.T // num_images\n",
    "stepsize = 1\n",
    "\n",
    "# for idx in range(0, diffusion.T, stepsize):\n",
    "for idx in range(0, 10):\n",
    "    t = torch.Tensor([idx]).type(torch.int64).to(device)\n",
    "    plt.subplot(1, num_images + 1, (idx // stepsize) + 1)\n",
    "    image, noise = diffusion.forward_diffusion_sample(image, t)\n",
    "    decoded_svg = decode_img(image)\n",
    "    show_sampled(decoded_svg)"
   ]
  },
  {
   "cell_type": "code",
   "execution_count": 40,
   "metadata": {
    "cellId": "i61vnii5rnhkua3p9rjp",
    "tags": []
   },
   "outputs": [
    {
     "name": "stdout",
     "output_type": "stream",
     "text": [
      "Num params:  35633352\n"
     ]
    },
    {
     "data": {
      "text/plain": [
       "CAE(\n",
       "  (encoder): ModuleList(\n",
       "    (0): TimeBlock(\n",
       "      (time_mlp): Sequential(\n",
       "        (0): Linear(in_features=32, out_features=32, bias=True)\n",
       "        (1): ReLU()\n",
       "      )\n",
       "      (layer): Sequential(\n",
       "        (0): Linear(in_features=1028, out_features=2350, bias=True)\n",
       "        (1): Tanh()\n",
       "      )\n",
       "    )\n",
       "    (1): TimeBlock(\n",
       "      (time_mlp): Sequential(\n",
       "        (0): Linear(in_features=32, out_features=32, bias=True)\n",
       "        (1): ReLU()\n",
       "      )\n",
       "      (layer): Sequential(\n",
       "        (0): Linear(in_features=2382, out_features=1800, bias=True)\n",
       "        (1): Tanh()\n",
       "      )\n",
       "    )\n",
       "    (2): TimeBlock(\n",
       "      (time_mlp): Sequential(\n",
       "        (0): Linear(in_features=32, out_features=32, bias=True)\n",
       "        (1): ReLU()\n",
       "      )\n",
       "      (layer): Sequential(\n",
       "        (0): Linear(in_features=1832, out_features=1640, bias=True)\n",
       "        (1): Tanh()\n",
       "      )\n",
       "    )\n",
       "    (3): TimeBlock(\n",
       "      (time_mlp): Sequential(\n",
       "        (0): Linear(in_features=32, out_features=32, bias=True)\n",
       "        (1): ReLU()\n",
       "      )\n",
       "      (layer): Sequential(\n",
       "        (0): Linear(in_features=1672, out_features=1128, bias=True)\n",
       "        (1): Tanh()\n",
       "      )\n",
       "    )\n",
       "    (4): TimeBlock(\n",
       "      (time_mlp): Sequential(\n",
       "        (0): Linear(in_features=32, out_features=32, bias=True)\n",
       "        (1): ReLU()\n",
       "      )\n",
       "      (layer): Sequential(\n",
       "        (0): Linear(in_features=1160, out_features=500, bias=True)\n",
       "        (1): Tanh()\n",
       "      )\n",
       "    )\n",
       "  )\n",
       "  (decoder): ModuleList(\n",
       "    (0): TimeBlock(\n",
       "      (time_mlp): Sequential(\n",
       "        (0): Linear(in_features=32, out_features=32, bias=True)\n",
       "        (1): ReLU()\n",
       "      )\n",
       "      (layer): Sequential(\n",
       "        (0): Linear(in_features=568, out_features=1128, bias=True)\n",
       "        (1): Tanh()\n",
       "      )\n",
       "    )\n",
       "    (1): TimeBlock(\n",
       "      (time_mlp): Sequential(\n",
       "        (0): Linear(in_features=32, out_features=32, bias=True)\n",
       "        (1): ReLU()\n",
       "      )\n",
       "      (layer): Sequential(\n",
       "        (0): Linear(in_features=2288, out_features=1640, bias=True)\n",
       "        (1): Tanh()\n",
       "      )\n",
       "    )\n",
       "    (2): TimeBlock(\n",
       "      (time_mlp): Sequential(\n",
       "        (0): Linear(in_features=32, out_features=32, bias=True)\n",
       "        (1): ReLU()\n",
       "      )\n",
       "      (layer): Sequential(\n",
       "        (0): Linear(in_features=3312, out_features=1800, bias=True)\n",
       "        (1): Tanh()\n",
       "      )\n",
       "    )\n",
       "    (3): TimeBlock(\n",
       "      (time_mlp): Sequential(\n",
       "        (0): Linear(in_features=32, out_features=32, bias=True)\n",
       "        (1): ReLU()\n",
       "      )\n",
       "      (layer): Sequential(\n",
       "        (0): Linear(in_features=3632, out_features=2350, bias=True)\n",
       "        (1): Tanh()\n",
       "      )\n",
       "    )\n",
       "    (4): TimeBlock(\n",
       "      (time_mlp): Sequential(\n",
       "        (0): Linear(in_features=32, out_features=32, bias=True)\n",
       "        (1): ReLU()\n",
       "      )\n",
       "      (layer): Sequential(\n",
       "        (0): Linear(in_features=4732, out_features=960, bias=True)\n",
       "        (1): Tanh()\n",
       "      )\n",
       "    )\n",
       "  )\n",
       "  (time_mlp): Sequential(\n",
       "    (0): SinusoidalPositionEmbeddings()\n",
       "    (1): Linear(in_features=32, out_features=32, bias=True)\n",
       "    (2): ReLU()\n",
       "  )\n",
       ")"
      ]
     },
     "execution_count": 40,
     "metadata": {},
     "output_type": "execute_result"
    }
   ],
   "source": [
    "#!g1.4\n",
    "params = [SVG.ENCODE_HEIGHT * LINE_WIDTH, 2350, 1800, 1640, 1128, 500]\n",
    "\n",
    "model, optimizer, scheduler, loss_fn = setup_cae(\n",
    "    params=params,\n",
    "    lr=2e-4,\n",
    "    weight_decay=2e-5,\n",
    "    step_size=3,\n",
    ")\n",
    "\n",
    "diffusion = Diffusion(model)\n",
    "\n",
    "print(\"Num params: \", sum(p.numel() for p in model.parameters()))\n",
    "model"
   ]
  },
  {
   "cell_type": "code",
   "execution_count": 41,
   "metadata": {
    "cellId": "59cxd0a0yvma538viqayva"
   },
   "outputs": [
    {
     "name": "stderr",
     "output_type": "stream",
     "text": [
      "100%|██████████| 10/10 [02:03<00:00, 12.34s/it]\n"
     ]
    }
   ],
   "source": [
    "#!g1.4\n",
    "run(\n",
    "    model=model, \n",
    "    dataloader=enc_dataloader, \n",
    "    optimizer=optimizer, \n",
    "    scheduler=scheduler, \n",
    "    epochs=10,\n",
    "    params=params,\n",
    "    batch_size=1024,\n",
    ")"
   ]
  },
  {
   "cell_type": "code",
   "execution_count": 42,
   "metadata": {
    "cellId": "u1tcnx9fu1on8g5pdzjme"
   },
   "outputs": [
    {
     "name": "stderr",
     "output_type": "stream",
     "text": [
      "100%|██████████| 10/10 [02:15<00:00, 13.55s/it]\n"
     ]
    }
   ],
   "source": [
    "#!g1.4\n",
    "run(\n",
    "    model=diffusion, \n",
    "    dataloader=enc_dataloader,\n",
    "    optimizer=optimizer, \n",
    "    scheduler=scheduler, \n",
    "    epochs=10,\n",
    "    params=params,\n",
    "    batch_size=1024,\n",
    "    # run_name=f'run_diffusion_size{SVG.ENCODE_HEIGHT}_{\",\".join(map(str, params))}',\n",
    ")"
   ]
  },
  {
   "cell_type": "code",
   "execution_count": null,
   "metadata": {
    "cellId": "udnjo3lvucj7k0sk5igdci"
   },
   "outputs": [],
   "source": [
    "#!g1.4\n"
   ]
  }
 ],
 "metadata": {
  "kernelspec": {
   "display_name": "Python 3 (ipykernel)",
   "language": "python",
   "name": "python3"
  },
  "language_info": {
   "codemirror_mode": {
    "name": "ipython",
    "version": 3
   },
   "file_extension": ".py",
   "mimetype": "text/x-python",
   "name": "python",
   "nbconvert_exporter": "python",
   "pygments_lexer": "ipython3",
   "version": "3.10.9"
  },
  "notebookId": "72567129-de4d-49c8-8183-0c887d928dd9",
  "notebookPath": "diploma/main_difuse.ipynb"
 },
 "nbformat": 4,
 "nbformat_minor": 4
}
